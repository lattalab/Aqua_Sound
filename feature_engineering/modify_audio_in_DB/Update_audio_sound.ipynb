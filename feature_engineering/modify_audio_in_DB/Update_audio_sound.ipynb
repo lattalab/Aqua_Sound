{
 "cells": [
  {
   "cell_type": "code",
   "execution_count": 23,
   "metadata": {},
   "outputs": [],
   "source": [
    "import noisereduce as nr\n",
    "from pydub import AudioSegment  \n",
    "import soundfile as sf"
   ]
  },
  {
   "cell_type": "code",
   "execution_count": 21,
   "metadata": {},
   "outputs": [],
   "source": [
    "source = r'C:\\Users\\vlva8\\OneDrive\\Desktop\\Aqua Sound\\聲音資料\\Merge_sound\\船+鯨魚\\20230714_150726_20201017_023137.wav'"
   ]
  },
  {
   "cell_type": "code",
   "execution_count": 22,
   "metadata": {},
   "outputs": [
    {
     "data": {
      "text/plain": [
       "<_io.BufferedRandom name='20220901_123022_fish_pitch_shift.wav'>"
      ]
     },
     "execution_count": 22,
     "metadata": {},
     "output_type": "execute_result"
    }
   ],
   "source": [
    "song = AudioSegment.from_wav(source)\n",
    "song = song.set_frame_rate(44100)  # 44.1kHz\n",
    "output = song[:] + 30   # 加dB\n",
    "output.export(\"20220901_123022_fish_pitch_shift.wav\")"
   ]
  },
  {
   "cell_type": "code",
   "execution_count": 5,
   "metadata": {},
   "outputs": [],
   "source": [
    "import librosa\n",
    "import soundfile as sf\n",
    "\n",
    "def audio_amplifier(audio_path, output_path, amplification_factor=4):\n",
    "    y, sr = librosa.load(audio_path)\n",
    "    y_amplified = y * amplification_factor\n",
    "    sf.write(output_path, y_amplified, sr)"
   ]
  },
  {
   "cell_type": "code",
   "execution_count": 32,
   "metadata": {},
   "outputs": [],
   "source": [
    "path1 = r'C:\\Users\\vlva8\\OneDrive\\Desktop\\Aqua Sound\\聲音資料\\魚\\墾丁\\20220901_181919.wav'\n",
    "y = audio_amplifier(path1, '20220901_181919_amplified.wav', amplification_factor=20)"
   ]
  },
  {
   "cell_type": "code",
   "execution_count": 33,
   "metadata": {},
   "outputs": [
    {
     "name": "stdout",
     "output_type": "stream",
     "text": [
      "Combined <pydub.audio_segment.AudioSegment object at 0x00000232F3085AF0> and <pydub.audio_segment.AudioSegment object at 0x0000023287FFDD60> into dolphin+fish.wav\n"
     ]
    }
   ],
   "source": [
    "def merge_audio(file1, file2, output_path):\n",
    "    # Load the audio files\n",
    "    audio1 = AudioSegment.from_file(file1)\n",
    "    audio2 = AudioSegment.from_file(file2)\n",
    "\n",
    "    # Combine the audio files\n",
    "    # repeat file2 until it's the same length as file1\n",
    "    combined_audio = audio1.overlay(audio2, loop=True) # overlay\n",
    "\n",
    "    # Export the combined audio file\n",
    "    combined_audio.export(output_path, format=\"wav\")\n",
    "    print(f\"Combined {audio1} and {audio2} into {output_path}\")\n",
    "\n",
    "file1 = r'C:\\Users\\vlva8\\OneDrive\\Desktop\\Aqua Sound\\聲音資料\\海豚\\M1\\20201016_214452.wav'\n",
    "file2 = './20220901_181919_amplified.wav'\n",
    "merge_audio(file1, file2, 'dolphin+fish.wav')"
   ]
  }
 ],
 "metadata": {
  "kernelspec": {
   "display_name": "pytorch",
   "language": "python",
   "name": "python3"
  },
  "language_info": {
   "codemirror_mode": {
    "name": "ipython",
    "version": 3
   },
   "file_extension": ".py",
   "mimetype": "text/x-python",
   "name": "python",
   "nbconvert_exporter": "python",
   "pygments_lexer": "ipython3",
   "version": "3.9.18"
  }
 },
 "nbformat": 4,
 "nbformat_minor": 2
}
