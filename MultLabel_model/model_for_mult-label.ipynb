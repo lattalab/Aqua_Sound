{
 "cells": [
  {
   "cell_type": "markdown",
   "metadata": {},
   "source": [
    "#### 基本設置 + 設cuda"
   ]
  },
  {
   "cell_type": "code",
<<<<<<< HEAD
   "execution_count": 11,
=======
   "execution_count": 3,
>>>>>>> 9a90a5be71c54cffa5fcfa23d1482b064b8d48ef
   "metadata": {},
   "outputs": [
    {
     "name": "stdout",
     "output_type": "stream",
     "text": [
      "cuda\n"
     ]
    }
   ],
   "source": [
    "# Load in relevant libraries, and alias where appropriate\n",
    "import torch\n",
    "import torch.nn as nn\n",
    "import torchvision\n",
    "import torchvision.transforms as transforms\n",
    "\n",
    "# Define relevant variables for the ML task\n",
    "batch_size = 16\n",
    "num_classes = 4\n",
<<<<<<< HEAD
    "learning_rate = 0.002\n",
=======
    "learning_rate = 0.0015\n",
>>>>>>> 9a90a5be71c54cffa5fcfa23d1482b064b8d48ef
    "num_epochs = 25\n",
    "\n",
    "# Device will determine whether to run the training on GPU or CPU.\n",
    "device = torch.device('cuda' if torch.cuda.is_available() else 'cpu')\n",
    "print(device)"
   ]
  },
  {
   "cell_type": "markdown",
   "metadata": {},
   "source": [
    "#### 讀取資料集"
   ]
  },
  {
   "cell_type": "code",
<<<<<<< HEAD
   "execution_count": 12,
=======
   "execution_count": 4,
>>>>>>> 9a90a5be71c54cffa5fcfa23d1482b064b8d48ef
   "metadata": {},
   "outputs": [
    {
     "name": "stdout",
     "output_type": "stream",
     "text": [
      "['boat', 'boat+fish', 'boat+whale', 'dolphin', 'dolphin+boat', 'dolphin+fish', 'dolphin+whale', 'fish', 'fish+whale', 'whale']\n",
      "{'boat': 0, 'boat+fish': 1, 'boat+whale': 2, 'dolphin': 3, 'dolphin+boat': 4, 'dolphin+fish': 5, 'dolphin+whale': 6, 'fish': 7, 'fish+whale': 8, 'whale': 9}\n",
      "223\n",
      "torch.Size([3, 480, 256])\n"
     ]
    }
   ],
   "source": [
    "import torchvision.datasets as dset\n",
    "\n",
    "# 定义数据转换\n",
    "transform = transforms.Compose([\n",
    "    transforms.Resize((480, 256)),  # 将图像调整为指定大小\n",
    "    transforms.ToTensor(),           # 将图像转换为张量\n",
    "])\n",
    "\n",
    "# 加載圖像數據集，並只考慮指定的資料夾\n",
    "dataset = dset.ImageFolder(root='./dataset/train', transform=transform)\n",
    "\n",
    "# 獲取相關信息\n",
    "print(dataset.classes)  # 根據分的文件夾的名字來確定類別\n",
    "print(dataset.class_to_idx)  # 按順序為這些類別定義索引為 0, 1, ...\n",
    "print(len(dataset))  # 返回數據集的大小\n",
    "\n",
    "print(dataset[0][0].size())  # 返回第一張圖片的大小"
   ]
  },
  {
   "cell_type": "markdown",
   "metadata": {},
   "source": [
    "用自定義dataset的方式改變label (因為要多標籤分類)"
   ]
  },
  {
   "cell_type": "code",
<<<<<<< HEAD
   "execution_count": 13,
=======
   "execution_count": 5,
>>>>>>> 9a90a5be71c54cffa5fcfa23d1482b064b8d48ef
   "metadata": {},
   "outputs": [],
   "source": [
    "from torch.utils.data import Dataset\n",
    "dict_for_label = {\n",
    "                    'boat':[1,0,0,0], 'dolphin':[0,1,0,0], 'fish':[0,0,1,0], 'whale':[0,0,0,1],\n",
    "                    'boat+fish':[1,0,1,0], 'boat+whale':[1,0,0,1],\n",
    "                    'dolphin+boat':[1,1,0,0], 'dolphin+whale':[0,1,0,1], 'dolphin+fish':[0,1,1,0],\n",
    "                    'fish+whale':[0,0,1,1]\n",
    "                  }\n",
    "# 自定義資料集，基於 ImageFolder 並支持多標籤\n",
    "class MultiLabelImageDataset(Dataset):\n",
    "    def __init__(self, image_folder, label_mapping, transform=None):\n",
    "        # 使用 ImageFolder 來獲取圖片和單標籤\n",
    "        self.image_folder = dset.ImageFolder(image_folder, transform=transform)\n",
    "        \n",
    "        # 依照圖片標籤名稱來對應多標籤\n",
    "        self.label_mapping = label_mapping  # 字典對應表\n",
    "\n",
    "    def __len__(self):\n",
    "        return len(self.image_folder)\n",
    "\n",
    "    def __getitem__(self, idx):\n",
    "        # 獲取圖片及其對應的單一標籤（由 ImageFolder 生成）\n",
    "        img, class_idx = self.image_folder[idx]\n",
    "        \n",
    "        # 使用 ImageFolder 的 class_to_idx 來獲取標籤名稱\n",
    "        label_name = self.image_folder.classes[class_idx]\n",
    "\n",
    "        # 根據 label_name 查詢對應的 one-hot 編碼\n",
    "        one_hot_label = torch.tensor(self.label_mapping[label_name], dtype=torch.float32)\n",
    "        \n",
    "        return img, one_hot_label"
   ]
  },
  {
   "cell_type": "code",
<<<<<<< HEAD
   "execution_count": 14,
=======
   "execution_count": 82,
>>>>>>> 9a90a5be71c54cffa5fcfa23d1482b064b8d48ef
   "metadata": {},
   "outputs": [
    {
     "name": "stdout",
     "output_type": "stream",
     "text": [
      "torch.Size([32, 3, 480, 256])\n",
      "torch.Size([32, 4])\n",
<<<<<<< HEAD
      "tensor([0., 0., 0., 1.])\n",
      "torch.Size([3, 480, 256])\n"
=======
      "tensor([0., 1., 0., 0.])\n"
>>>>>>> 9a90a5be71c54cffa5fcfa23d1482b064b8d48ef
     ]
    }
   ],
   "source": [
    "from torch.utils.data import DataLoader\n",
    "# 使用自定義的多標籤資料集\n",
    "dataset = MultiLabelImageDataset(image_folder='dataset_v3/train', label_mapping=dict_for_label, transform=transform)\n",
    "\n",
    "# 使用 DataLoader 加載資料\n",
    "dataloader = DataLoader(dataset, batch_size=32, shuffle=True)\n",
    "\n",
    "# 測試資料加載\n",
    "for images, labels in dataloader:\n",
    "    print(images.shape)  # 輸出: (batch_size, channels, height, width)\n",
    "    print(labels.shape)  # 輸出: (batch_size, num_classes) -> multi-label one-hot encoded labels\n",
    "    print(labels[0])  # 輸出: 第一張圖片的標籤\n",
<<<<<<< HEAD
    "    print(images[0].size())  # 輸出: 第一張圖片的大小\n",
=======
>>>>>>> 9a90a5be71c54cffa5fcfa23d1482b064b8d48ef
    "    break"
   ]
  },
  {
   "cell_type": "code",
<<<<<<< HEAD
   "execution_count": 15,
=======
   "execution_count": 83,
>>>>>>> 9a90a5be71c54cffa5fcfa23d1482b064b8d48ef
   "metadata": {},
   "outputs": [
    {
     "name": "stdout",
     "output_type": "stream",
     "text": [
      "11\n",
      "4\n"
     ]
    }
   ],
   "source": [
    "from torch.utils.data import DataLoader\n",
    "\n",
    "# 加載圖像數據集，並只考慮指定的資料夾\n",
    "train_dataset = MultiLabelImageDataset(image_folder='dataset_v3/train', label_mapping=dict_for_label, transform=transform)\n",
    "test_dataset = MultiLabelImageDataset(image_folder='dataset_v3/test', label_mapping=dict_for_label, transform=transform)\n",
    "\n",
    "# 创建 DataLoader 对象\n",
    "train_loader = DataLoader(train_dataset, batch_size=batch_size, shuffle=True)\n",
    "test_loader = DataLoader(test_dataset, batch_size=batch_size, shuffle=False)\n",
    "print(len(train_loader))\n",
    "print(len(test_loader))"
   ]
  },
  {
   "cell_type": "markdown",
   "metadata": {},
   "source": [
    "#### 創立model"
   ]
  },
  {
   "cell_type": "code",
<<<<<<< HEAD
   "execution_count": 38,
   "metadata": {},
   "outputs": [],
   "source": [
    "# # Create CNN Model\n",
    "# class CNN_Model(nn.Module):\n",
    "#     def __init__(self):\n",
    "#         super(CNN_Model, self).__init__()\n",
    "#         # Convolution , input_shape=(3,480,256)\n",
    "#         self.layer1 = self.conv_module(3, 8, 5, 1) #output_shape=(8,238,126)\n",
    "#         self.layer2 = self.conv_twice(8, 14, 3, 1) #output_shape=(14,118,62)\n",
    "#         self.layer3 = self.conv_twice(14, 44, 3, 1) #output_shape=(44,58,30)\n",
    "#         self.layer4 = self.conv_twice(44, 20, 3, 1) #output_shape=(20,28,14)\n",
    "#         self.layer5 = self.conv_twice(20, 8, 5, 1) #output_shape=(8,12,5)\n",
    "#         # # Fully connected 1\n",
    "#         self.fc1 = nn.Linear(8*12*5, 4) \n",
    "        \n",
    "#     def forward(self, x):\n",
    "#         # Convolutions\n",
    "#         out = self.layer1(x)\n",
    "#         out = self.layer2(out)\n",
    "#         out = self.layer3(out)\n",
    "#         out = self.layer4(out)\n",
    "#         out = self.layer5(out)\n",
    "#         # Resize\n",
    "#         out = out.view(out.size(0), -1)\n",
    "#         # Linear function (readout)\n",
    "#         out = self.fc1(out)\n",
    "#         return out\n",
    "    \n",
    "#     def conv_module(self, in_channels, out_channels, kernel_size, stride, padding=0):\n",
    "#         \"By giving the convolutional parameters, the function will return a convolutional module\"\n",
    "#         return nn.Sequential(\n",
    "#             nn.Conv2d(in_channels, out_channels, kernel_size, stride, padding),\n",
    "#             nn.ReLU(),\n",
    "#             nn.BatchNorm2d(out_channels),\n",
    "#             nn.MaxPool2d(kernel_size=2)\n",
    "#         )\n",
    "#     def conv_twice(self, in_channels, out_channels, kernel_size, stride, padding=0):\n",
    "#         \"By giving the convolutional parameters, the function will return a double convolutional module\"\n",
    "#         return nn.Sequential(\n",
    "#             nn.Conv2d(in_channels, out_channels, kernel_size=1, stride=stride, padding=padding),    # expand the channels\n",
    "#             nn.ReLU(),\n",
    "#             nn.Conv2d(out_channels, out_channels, kernel_size, stride, padding),\n",
    "#             nn.ReLU(),\n",
    "#             nn.BatchNorm2d(out_channels),\n",
    "#             nn.MaxPool2d(kernel_size=2)\n",
    "#         )"
   ]
  },
  {
   "cell_type": "code",
   "execution_count": 5,
   "metadata": {},
   "outputs": [],
   "source": [
    "import torch.nn as nn\n",
=======
   "execution_count": 6,
   "metadata": {},
   "outputs": [],
   "source": [
>>>>>>> 9a90a5be71c54cffa5fcfa23d1482b064b8d48ef
    "# Create CNN Model\n",
    "class CNN_Model(nn.Module):\n",
    "    def __init__(self):\n",
    "        super(CNN_Model, self).__init__()\n",
    "        # Convolution , input_shape=(3,480,256)\n",
<<<<<<< HEAD
    "        self.layer1 = self.conv_module_for_5x5(3, 8, 3, 1) #output_shape=(8,238,126)\n",
    "        self.layer2 = self.conv_twice(8, 14, 3, 1) #output_shape=(14,118,62)\n",
    "        self.layer3 = self.conv_twice(14, 44, 3, 1) #output_shape=(44,58,30)\n",
    "        self.layer4 = self.conv_twice(44, 20, 3, 1) #output_shape=(20,28,14)\n",
    "        self.layer5 = self.conv_twice_for_5x5(20, 8, 3, 1) #output_shape=(8,12,5)\n",
=======
    "        self.layer1 = self.conv_module(3, 8, 5, 1) #output_shape=(8,238,126)\n",
    "        self.layer2 = self.conv_twice(8, 14, 3, 1) #output_shape=(14,118,62)\n",
    "        self.layer3 = self.conv_twice(14, 44, 3, 1) #output_shape=(44,58,30)\n",
    "        self.layer4 = self.conv_twice(44, 20, 3, 1) #output_shape=(20,28,14)\n",
    "        self.layer5 = self.conv_twice(20, 8, 5, 1) #output_shape=(8,12,5)\n",
>>>>>>> 9a90a5be71c54cffa5fcfa23d1482b064b8d48ef
    "        # # Fully connected 1\n",
    "        self.fc1 = nn.Linear(8*12*5, 4) \n",
    "        \n",
    "    def forward(self, x):\n",
    "        # Convolutions\n",
    "        out = self.layer1(x)\n",
    "        out = self.layer2(out)\n",
    "        out = self.layer3(out)\n",
    "        out = self.layer4(out)\n",
    "        out = self.layer5(out)\n",
    "        # Resize\n",
    "        out = out.view(out.size(0), -1)\n",
    "        # Linear function (readout)\n",
    "        out = self.fc1(out)\n",
    "        return out\n",
    "    \n",
    "    def conv_module(self, in_channels, out_channels, kernel_size, stride, padding=0):\n",
    "        \"By giving the convolutional parameters, the function will return a convolutional module\"\n",
    "        return nn.Sequential(\n",
    "            nn.Conv2d(in_channels, out_channels, kernel_size, stride, padding),\n",
    "            nn.ReLU(),\n",
    "            nn.BatchNorm2d(out_channels),\n",
    "            nn.MaxPool2d(kernel_size=2)\n",
    "        )\n",
<<<<<<< HEAD
    "    def conv_module_for_5x5(self, in_channels, out_channels, kernel_size, stride, padding=0):\n",
    "        \"By giving the convolutional parameters, the function will return a convolutional module\"\n",
    "        return nn.Sequential(\n",
    "            nn.Conv2d(in_channels, out_channels, kernel_size, stride, padding),\n",
    "            nn.ReLU(),\n",
    "            nn.Conv2d(out_channels, out_channels, kernel_size, stride, padding),\n",
    "            nn.ReLU(),\n",
    "            nn.BatchNorm2d(out_channels),\n",
    "            nn.MaxPool2d(kernel_size=2)\n",
    "        )\n",
=======
>>>>>>> 9a90a5be71c54cffa5fcfa23d1482b064b8d48ef
    "    def conv_twice(self, in_channels, out_channels, kernel_size, stride, padding=0):\n",
    "        \"By giving the convolutional parameters, the function will return a double convolutional module\"\n",
    "        return nn.Sequential(\n",
    "            nn.Conv2d(in_channels, out_channels, kernel_size=1, stride=stride, padding=padding),    # expand the channels\n",
    "            nn.ReLU(),\n",
    "            nn.Conv2d(out_channels, out_channels, kernel_size, stride, padding),\n",
    "            nn.ReLU(),\n",
    "            nn.BatchNorm2d(out_channels),\n",
    "            nn.MaxPool2d(kernel_size=2)\n",
<<<<<<< HEAD
    "        )\n",
    "    def conv_twice_for_5x5(self, in_channels, out_channels, kernel_size, stride, padding=0):\n",
    "        \"By giving the convolutional parameters, the function will return a double convolutional module\"\n",
    "        return nn.Sequential(\n",
    "            nn.Conv2d(in_channels, out_channels, kernel_size=1, stride=stride, padding=padding),    # expand the channels\n",
    "            nn.ReLU(),\n",
    "            nn.Conv2d(out_channels, out_channels, kernel_size, stride, padding),\n",
    "            nn.ReLU(),\n",
    "            nn.Conv2d(out_channels, out_channels, kernel_size, stride, padding),\n",
    "            nn.ReLU(),\n",
    "            nn.BatchNorm2d(out_channels),\n",
    "            nn.MaxPool2d(kernel_size=2)\n",
=======
>>>>>>> 9a90a5be71c54cffa5fcfa23d1482b064b8d48ef
    "        )"
   ]
  },
  {
   "cell_type": "code",
<<<<<<< HEAD
   "execution_count": 40,
=======
   "execution_count": 85,
>>>>>>> 9a90a5be71c54cffa5fcfa23d1482b064b8d48ef
   "metadata": {},
   "outputs": [
    {
     "name": "stdout",
     "output_type": "stream",
     "text": [
      "Model's structure:\n",
      " =================================================================\n",
      "Layer (type:depth-idx)                   Param #\n",
      "=================================================================\n",
      "CNN_Model                                --\n",
      "├─Sequential: 1-1                        --\n",
<<<<<<< HEAD
      "│    └─Conv2d: 2-1                       224\n",
      "│    └─ReLU: 2-2                         --\n",
      "│    └─Conv2d: 2-3                       584\n",
      "│    └─ReLU: 2-4                         --\n",
      "│    └─BatchNorm2d: 2-5                  16\n",
      "│    └─MaxPool2d: 2-6                    --\n",
      "├─Sequential: 1-2                        --\n",
      "│    └─Conv2d: 2-7                       126\n",
      "│    └─ReLU: 2-8                         --\n",
      "│    └─Conv2d: 2-9                       1,778\n",
      "│    └─ReLU: 2-10                        --\n",
      "│    └─BatchNorm2d: 2-11                 28\n",
      "│    └─MaxPool2d: 2-12                   --\n",
      "├─Sequential: 1-3                        --\n",
      "│    └─Conv2d: 2-13                      660\n",
      "│    └─ReLU: 2-14                        --\n",
      "│    └─Conv2d: 2-15                      17,468\n",
      "│    └─ReLU: 2-16                        --\n",
      "│    └─BatchNorm2d: 2-17                 88\n",
      "│    └─MaxPool2d: 2-18                   --\n",
      "├─Sequential: 1-4                        --\n",
      "│    └─Conv2d: 2-19                      900\n",
      "│    └─ReLU: 2-20                        --\n",
      "│    └─Conv2d: 2-21                      3,620\n",
      "│    └─ReLU: 2-22                        --\n",
      "│    └─BatchNorm2d: 2-23                 40\n",
      "│    └─MaxPool2d: 2-24                   --\n",
      "├─Sequential: 1-5                        --\n",
      "│    └─Conv2d: 2-25                      168\n",
      "│    └─ReLU: 2-26                        --\n",
      "│    └─Conv2d: 2-27                      584\n",
      "│    └─ReLU: 2-28                        --\n",
      "│    └─Conv2d: 2-29                      584\n",
      "│    └─ReLU: 2-30                        --\n",
      "│    └─BatchNorm2d: 2-31                 16\n",
      "│    └─MaxPool2d: 2-32                   --\n",
      "├─Linear: 1-6                            1,924\n",
      "=================================================================\n",
      "Total params: 28,808\n",
      "Trainable params: 28,808\n",
=======
      "│    └─Conv2d: 2-1                       608\n",
      "│    └─ReLU: 2-2                         --\n",
      "│    └─BatchNorm2d: 2-3                  16\n",
      "│    └─MaxPool2d: 2-4                    --\n",
      "├─Sequential: 1-2                        --\n",
      "│    └─Conv2d: 2-5                       126\n",
      "│    └─ReLU: 2-6                         --\n",
      "│    └─Conv2d: 2-7                       1,778\n",
      "│    └─ReLU: 2-8                         --\n",
      "│    └─BatchNorm2d: 2-9                  28\n",
      "│    └─MaxPool2d: 2-10                   --\n",
      "├─Sequential: 1-3                        --\n",
      "│    └─Conv2d: 2-11                      660\n",
      "│    └─ReLU: 2-12                        --\n",
      "│    └─Conv2d: 2-13                      17,468\n",
      "│    └─ReLU: 2-14                        --\n",
      "│    └─BatchNorm2d: 2-15                 88\n",
      "│    └─MaxPool2d: 2-16                   --\n",
      "├─Sequential: 1-4                        --\n",
      "│    └─Conv2d: 2-17                      900\n",
      "│    └─ReLU: 2-18                        --\n",
      "│    └─Conv2d: 2-19                      3,620\n",
      "│    └─ReLU: 2-20                        --\n",
      "│    └─BatchNorm2d: 2-21                 40\n",
      "│    └─MaxPool2d: 2-22                   --\n",
      "├─Sequential: 1-5                        --\n",
      "│    └─Conv2d: 2-23                      168\n",
      "│    └─ReLU: 2-24                        --\n",
      "│    └─Conv2d: 2-25                      1,608\n",
      "│    └─ReLU: 2-26                        --\n",
      "│    └─BatchNorm2d: 2-27                 16\n",
      "│    └─MaxPool2d: 2-28                   --\n",
      "├─Linear: 1-6                            1,924\n",
      "=================================================================\n",
      "Total params: 29,048\n",
      "Trainable params: 29,048\n",
>>>>>>> 9a90a5be71c54cffa5fcfa23d1482b064b8d48ef
      "Non-trainable params: 0\n",
      "=================================================================\n"
     ]
    }
   ],
   "source": [
    "import torchinfo\n",
    "import torchinfo\n",
    "\n",
    "model = CNN_Model()\n",
    "print(f\"Model's structure:\\n {torchinfo.summary(model)}\")"
   ]
  },
  {
   "cell_type": "markdown",
   "metadata": {},
   "source": [
    "#### 訓練模型"
   ]
  },
  {
   "cell_type": "code",
<<<<<<< HEAD
   "execution_count": 41,
=======
   "execution_count": 86,
>>>>>>> 9a90a5be71c54cffa5fcfa23d1482b064b8d48ef
   "metadata": {},
   "outputs": [
    {
     "name": "stdout",
     "output_type": "stream",
     "text": [
<<<<<<< HEAD
      "Epoch:1/25, Time:4.36 seconds, Train Loss: 0.5971\n",
      "Epoch:2/25, Time:3.81 seconds, Train Loss: 0.4142\n",
      "Epoch:3/25, Time:3.77 seconds, Train Loss: 0.3611\n",
      "Epoch:4/25, Time:3.86 seconds, Train Loss: 0.3324\n",
      "Epoch:5/25, Time:4.00 seconds, Train Loss: 0.2419\n",
      "Model saved to MyModel_v3.h5\n",
      "Epoch:6/25, Time:3.99 seconds, Train Loss: 0.2616\n",
      "Epoch:7/25, Time:3.84 seconds, Train Loss: 0.2158\n",
      "Epoch:8/25, Time:3.82 seconds, Train Loss: 0.1787\n",
      "Epoch:9/25, Time:4.11 seconds, Train Loss: 0.1643\n",
      "Epoch:10/25, Time:3.83 seconds, Train Loss: 0.1330\n",
      "Model saved to MyModel_v3.h5\n",
      "Epoch:11/25, Time:3.88 seconds, Train Loss: 0.1133\n",
      "Epoch:12/25, Time:3.77 seconds, Train Loss: 0.1105\n",
      "Epoch:13/25, Time:3.87 seconds, Train Loss: 0.1033\n",
      "Epoch:14/25, Time:3.84 seconds, Train Loss: 0.0863\n",
      "Epoch:15/25, Time:3.83 seconds, Train Loss: 0.0678\n",
      "Model saved to MyModel_v3.h5\n",
      "Epoch:16/25, Time:4.10 seconds, Train Loss: 0.0585\n",
      "Epoch:17/25, Time:3.82 seconds, Train Loss: 0.0430\n",
      "Epoch:18/25, Time:3.84 seconds, Train Loss: 0.0340\n",
      "Epoch:19/25, Time:3.87 seconds, Train Loss: 0.0307\n",
      "Epoch:20/25, Time:4.16 seconds, Train Loss: 0.0345\n",
      "Model saved to MyModel_v3.h5\n",
      "Epoch:21/25, Time:3.89 seconds, Train Loss: 0.0352\n",
      "Epoch:22/25, Time:3.92 seconds, Train Loss: 0.0208\n",
      "Epoch:23/25, Time:3.80 seconds, Train Loss: 0.0167\n",
      "Epoch:24/25, Time:3.83 seconds, Train Loss: 0.0194\n",
      "Epoch:25/25, Time:3.80 seconds, Train Loss: 0.0322\n",
      "Model saved to MyModel_v3.h5\n"
=======
      "Epoch:1/25, Time:4.34 seconds, Train Loss: 0.5440\n",
      "Epoch:2/25, Time:4.02 seconds, Train Loss: 0.3934\n",
      "Epoch:3/25, Time:4.14 seconds, Train Loss: 0.2581\n",
      "Epoch:4/25, Time:3.80 seconds, Train Loss: 0.2155\n",
      "Epoch:5/25, Time:3.78 seconds, Train Loss: 0.1607\n",
      "Epoch:6/25, Time:3.88 seconds, Train Loss: 0.1769\n",
      "Epoch:7/25, Time:3.77 seconds, Train Loss: 0.1255\n",
      "Epoch:8/25, Time:3.72 seconds, Train Loss: 0.1018\n",
      "Epoch:9/25, Time:3.77 seconds, Train Loss: 0.0957\n",
      "Epoch:10/25, Time:3.83 seconds, Train Loss: 0.0973\n",
      "Epoch:11/25, Time:3.82 seconds, Train Loss: 0.0835\n",
      "Epoch:12/25, Time:3.74 seconds, Train Loss: 0.0610\n",
      "Epoch:13/25, Time:3.79 seconds, Train Loss: 0.0377\n",
      "Epoch:14/25, Time:3.93 seconds, Train Loss: 0.0308\n",
      "Epoch:15/25, Time:3.77 seconds, Train Loss: 0.0275\n",
      "Epoch:16/25, Time:3.76 seconds, Train Loss: 0.0345\n",
      "Epoch:17/25, Time:3.91 seconds, Train Loss: 0.0331\n",
      "Epoch:18/25, Time:3.79 seconds, Train Loss: 0.0261\n",
      "Epoch:19/25, Time:3.85 seconds, Train Loss: 0.0300\n",
      "Epoch:20/25, Time:3.83 seconds, Train Loss: 0.0184\n",
      "Epoch:21/25, Time:3.88 seconds, Train Loss: 0.0415\n",
      "Epoch:22/25, Time:3.83 seconds, Train Loss: 0.0646\n",
      "Epoch:23/25, Time:3.82 seconds, Train Loss: 0.0659\n",
      "Epoch:24/25, Time:3.88 seconds, Train Loss: 0.0410\n",
      "Epoch:25/25, Time:3.80 seconds, Train Loss: 0.0426\n",
      "Model saved to MyModel_v3.pt\n"
>>>>>>> 9a90a5be71c54cffa5fcfa23d1482b064b8d48ef
     ]
    }
   ],
   "source": [
    "import time\n",
    "# Move model to \"device\".\n",
    "model = model.to(device)\n",
    "# File name.\n",
<<<<<<< HEAD
    "modelSaveName = \"MyModel_v3.h5\"\n",
=======
    "modelSaveName = \"MyModel_v3.pt\"\n",
>>>>>>> 9a90a5be71c54cffa5fcfa23d1482b064b8d48ef
    "# Create an optimizer.\n",
    "optimizer = torch.optim.Adam(params=model.parameters(), lr=learning_rate)\n",
    "# Create a loss function\n",
    "lossFunc = nn.BCEWithLogitsLoss() # Binary Cross Entropy Loss\n",
    "\n",
<<<<<<< HEAD
    "bestTrainAcc = 1000\n",
=======
    "bestValidAcc = 0\n",
>>>>>>> 9a90a5be71c54cffa5fcfa23d1482b064b8d48ef
    "for epoch in range(1, num_epochs+1):\n",
    "  start_time = time.time()  # 計算每個epoch開始的時間\n",
    "  # Training mode.\n",
    "  model.train()\n",
    "  train_loss = 0.0\n",
    "  for iter, (input, target) in enumerate(train_loader):\n",
    "    # Move data to \"device\".\n",
    "    input = input.to(device)\n",
    "    target = target.to(device)\n",
    "\n",
    "    # Clear optimizer gradients.\n",
    "    optimizer.zero_grad()\n",
    "    \n",
    "    # Forward pass.\n",
    "    output = model(input)\n",
    "      \n",
    "    # Compute the loss.\n",
    "    loss=lossFunc(output, target)\n",
    "    # Loss backward propagation.\n",
    "    loss.backward()\n",
    "    # Update all learnable parameters.\n",
    "    optimizer.step()\n",
    "    # update training loss\n",
    "    train_loss += loss.item()\n",
    "\n",
    "  # statistics\n",
    "  # 計算每個樣本的平均損失\n",
    "  train_loss = train_loss / len(train_loader)\n",
    "  end_time = time.time()  # 計算每個epoch結束的時間\n",
    "  epoch_time = end_time - start_time  # 計算每個epoch所花的時間\n",
    "  print(\"Epoch:{}/{}, Time:{:.2f} seconds, Train Loss: {:.4f}\".format(epoch, num_epochs, epoch_time, train_loss))\n",
    "\n",
<<<<<<< HEAD
    "  # 存檔\n",
    "  if epoch % 5 == 0 and bestTrainAcc > train_loss:\n",
    "    bestTrainAcc = train_loss\n",
    "    torch.save(model.state_dict(), modelSaveName, _use_new_zipfile_serialization=False)\n",
    "    print('Model saved to %s' % modelSaveName)"
=======
    "# 存檔\n",
    "torch.save(model.state_dict(), modelSaveName, _use_new_zipfile_serialization=False)\n",
    "print('Model saved to %s' % modelSaveName)"
>>>>>>> 9a90a5be71c54cffa5fcfa23d1482b064b8d48ef
   ]
  },
  {
   "cell_type": "markdown",
   "metadata": {},
   "source": [
    "測試模型"
   ]
  },
  {
   "cell_type": "code",
<<<<<<< HEAD
   "execution_count": 9,
=======
   "execution_count": 87,
>>>>>>> 9a90a5be71c54cffa5fcfa23d1482b064b8d48ef
   "metadata": {},
   "outputs": [
    {
     "data": {
      "text/plain": [
       "<All keys matched successfully>"
      ]
     },
<<<<<<< HEAD
     "execution_count": 9,
=======
     "execution_count": 87,
>>>>>>> 9a90a5be71c54cffa5fcfa23d1482b064b8d48ef
     "metadata": {},
     "output_type": "execute_result"
    }
   ],
   "source": [
<<<<<<< HEAD
    "import torch\n",
    "model = CNN_Model()\n",
    "model.load_state_dict(torch.load('MyModel_Remove5x5_v3.pt'))"
=======
    "model = CNN_Model()\n",
    "model.load_state_dict(torch.load('MyModel_v3.pt'))"
>>>>>>> 9a90a5be71c54cffa5fcfa23d1482b064b8d48ef
   ]
  },
  {
   "cell_type": "code",
<<<<<<< HEAD
   "execution_count": 16,
=======
   "execution_count": 88,
>>>>>>> 9a90a5be71c54cffa5fcfa23d1482b064b8d48ef
   "metadata": {},
   "outputs": [],
   "source": [
    "correct = 0\n",
    "total = 0\n",
    "# 新增這邊記錄真實跟預測值\n",
    "pred_list = []\n",
    "label_list = []\n",
    "\n",
    "with torch.no_grad():\n",
    "    for data in test_loader:\n",
    "        images, labels = data\n",
    "        # calculate outputs by running images through the network\n",
    "        outputs = model(images)\n",
    "        \n",
    "        predicted_prob = torch.sigmoid(outputs)\n",
    "        \n",
    "        # 將每個類別的預測概率與閾值 0.5 比較，大於 0.5 的表示預測該類別存在 (標記為 1)\n",
    "        predicted = (predicted_prob > 0.5).int()\n",
    "\n",
    "        # 計算每個樣本的預測是否與真實標籤完全相同\n",
    "        correct += (predicted == labels).all(dim=1).sum().item()\n",
    "        total += labels.size(0)\n",
    "\n",
    "        pred_list.extend(predicted.cpu().numpy())\n",
    "        label_list.extend(labels.cpu().numpy())"
   ]
  },
  {
   "cell_type": "code",
<<<<<<< HEAD
   "execution_count": 17,
=======
   "execution_count": 89,
>>>>>>> 9a90a5be71c54cffa5fcfa23d1482b064b8d48ef
   "metadata": {},
   "outputs": [
    {
     "name": "stdout",
     "output_type": "stream",
     "text": [
<<<<<<< HEAD
      "Subset Accuracy of the network on the 59 test images: 88.13559322033898 %\n",
      "Accuracy of the network on the 59 test images: 89.83050847457628 %\n"
=======
      "Subset Accuracy of the network on the 59 test images: 86.4406779661017 %\n",
      "Accuracy of the network on the 59 test images: 91.52542372881356 %\n"
>>>>>>> 9a90a5be71c54cffa5fcfa23d1482b064b8d48ef
     ]
    }
   ],
   "source": [
    "from sklearn.metrics import accuracy_score\n",
    "import numpy as np\n",
    "\n",
    "# change to numpy array\n",
    "pred_list = np.array(pred_list)\n",
    "label_list = np.array(label_list)\n",
    "\n",
    "print(f'Subset Accuracy of the network on the {total} test images: {accuracy_score(label_list, pred_list)*100} %')\n",
    "\n",
    "def Accuracy(y_pred, y_true):\n",
    "    count = 0\n",
    "    for i in range(y_true.shape[0]):  # 幾個樣本\n",
    "        p = sum(np.logical_and(y_pred[i], y_true[i]))\n",
    "        q = sum(np.logical_or(y_pred[i], y_true[i]))\n",
    "        count += p / q\n",
    "    return count / y_true.shape[0]\n",
    "\n",
    "print(f'Accuracy of the network on the {total} test images: {Accuracy(pred_list, label_list)*100} %')"
   ]
  },
  {
   "cell_type": "code",
<<<<<<< HEAD
   "execution_count": 18,
=======
   "execution_count": 90,
>>>>>>> 9a90a5be71c54cffa5fcfa23d1482b064b8d48ef
   "metadata": {},
   "outputs": [
    {
     "name": "stdout",
     "output_type": "stream",
     "text": [
<<<<<<< HEAD
      "Precision: 0.9067796610169492\n",
      "Recall: 0.9067796610169492\n",
      "F1-score: 0.903954802259887\n"
=======
      "Precision: 0.9209039548022598\n",
      "Recall: 0.9491525423728814\n",
      "F1-score: 0.9310734463276836\n"
>>>>>>> 9a90a5be71c54cffa5fcfa23d1482b064b8d48ef
     ]
    },
    {
     "name": "stderr",
     "output_type": "stream",
     "text": [
      "d:\\ancode\\envs\\pytorch\\lib\\site-packages\\sklearn\\metrics\\_classification.py:1469: UndefinedMetricWarning: Precision is ill-defined and being set to 0.0 in samples with no predicted labels. Use `zero_division` parameter to control this behavior.\n",
      "  _warn_prf(average, modifier, msg_start, len(result))\n"
     ]
    }
   ],
   "source": [
    "# precision, recall, f1-score\n",
    "from sklearn.metrics import precision_score, recall_score, f1_score\n",
    "\n",
    "print(f'Precision: {precision_score(label_list, pred_list, average=\"samples\")}')\n",
    "print(f'Recall: {recall_score(label_list, pred_list, average=\"samples\")}')\n",
    "print(f'F1-score: {f1_score(label_list, pred_list, average=\"samples\")}')"
   ]
  },
  {
   "cell_type": "code",
<<<<<<< HEAD
   "execution_count": 19,
=======
   "execution_count": 91,
>>>>>>> 9a90a5be71c54cffa5fcfa23d1482b064b8d48ef
   "metadata": {},
   "outputs": [
    {
     "data": {
<<<<<<< HEAD
      "image/png": "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",
=======
      "image/png": "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",
>>>>>>> 9a90a5be71c54cffa5fcfa23d1482b064b8d48ef
      "text/plain": [
       "<Figure size 500x400 with 1 Axes>"
      ]
     },
     "metadata": {},
     "output_type": "display_data"
    },
    {
     "data": {
      "image/png": "iVBORw0KGgoAAAANSUhEUgAAAcIAAAGJCAYAAAAZhzPqAAAAOXRFWHRTb2Z0d2FyZQBNYXRwbG90bGliIHZlcnNpb24zLjkuMSwgaHR0cHM6Ly9tYXRwbG90bGliLm9yZy/TGe4hAAAACXBIWXMAAA9hAAAPYQGoP6dpAAApc0lEQVR4nO3de3zP9f//8ft7s703O5jDHFZsk8wcQpIQ40MHJEty6rA5RFTKqdL308fpIyWVkFBiH1FKJUVF5vBRSBhCMuc+jpvjmI29X78/XPb+9baNbd7bWz1v18tlf+z5er6er8fr9X5z3/N1eL9tlmVZAgDAUF6eLgAAAE8iCAEARiMIAQBGIwgBAEYjCAEARiMIAQBGIwgBAEYjCAEARiMIAQBGIwhxQ9m1a5fuvfdelSpVSjabTQsWLHDr+Pv27ZPNZtOsWbPcOu5fWYsWLdSiRQu3jZeWlqbevXurYsWKstlsev755902dkHYbDaNGDGiwOutWLFCNptNK1asKPS68+fPv2bf+Ph4RUREFHgbcD+CEDns3r1bffv2VdWqVeXn56fg4GA1bdpU77zzjtLT04t023Fxcdq6davGjBmj2bNn64477ijS7RWn+Ph42Ww2BQcH53ocd+3aJZvNJpvNpvHjxxd4/EOHDmnEiBFKSkpyQ7WF9+qrr2rWrFnq16+fZs+erccff9yj9QDXUsLTBeDGsmjRIj3yyCOy2+164oknVLt2bWVmZmr16tUaOnSotm3bpunTpxfJttPT07VmzRr93//9n5555pki2UZ4eLjS09Pl4+NTJONfS4kSJXT+/Hl9/fXX6ty5s8uyOXPmyM/PTxcuXCjU2IcOHdLIkSMVERGhevXq5Xu9JUuWFGp7eUlMTNRdd92l4cOHu3Xcv5v3339fDofD02VABCH+ZO/everatavCw8OVmJioSpUqOZc9/fTTSk5O1qJFi4ps+8ePH5ckhYSEFNk2bDab/Pz8imz8a7Hb7WratKk+/vjjHEE4d+5ctWvXTp9//nmx1HL+/HmVLFlSvr6+bh332LFjqlmzptvGu3TpkhwOh9vr9DRP/TGGnDg1Cqdx48YpLS1NM2bMcAnBbNWqVdNzzz3n/P3SpUsaPXq0brnlFtntdkVEROjll19WRkaGy3oRERF64IEHtHr1at15553y8/NT1apV9Z///MfZZ8SIEQoPD5ckDR06VDabzXn9JK9rKSNGjJDNZnNpW7p0qe6++26FhIQoMDBQUVFRevnll53L87pGmJiYqGbNmikgIEAhISHq0KGDduzYkev2kpOTFR8fr5CQEJUqVUo9evTQ+fPn8z6wV+jevbu+/fZbnTp1ytm2fv167dq1S927d8/R/8SJExoyZIjq1KmjwMBABQcHq02bNtq8ebOzz4oVK9SwYUNJUo8ePZynWLP3s0WLFqpdu7Y2bNig5s2bq2TJks7jcuU1wri4OPn5+eXY//vuu0+lS5fWoUOHct2v7Otje/fu1aJFi5w17Nu3T9LlgOzVq5cqVKggPz8/1a1bVwkJCS5jZL8+48eP14QJE5zvre3bt+d5PDMyMjRw4ECFhoYqKChIDz74oP74449c+27atElt2rRRcHCwAgMD1apVK61duzbPsbP9+fg1adJE/v7+ioyM1NSpU3Pt73A4NGbMGN18883y8/NTq1atlJyc7NLnyvf1n/d9+vTpzn1v2LCh1q9ff80aUXjMCOH09ddfq2rVqmrSpEm++vfu3VsJCQnq1KmTBg8erHXr1mns2LHasWOHvvzyS5e+ycnJ6tSpk3r16qW4uDh9+OGHio+PV4MGDVSrVi117NhRISEhGjhwoLp166a2bdsqMDCwQPVv27ZNDzzwgG677TaNGjVKdrtdycnJ+vHHH6+63g8//KA2bdqoatWqGjFihNLT0zVp0iQ1bdpUGzduzBHCnTt3VmRkpMaOHauNGzfqgw8+UPny5fX666/nq86OHTvqqaee0hdffKGePXtKujwbrFGjhm6//fYc/ffs2aMFCxbokUceUWRkpI4ePapp06YpJiZG27dvV1hYmKKjozVq1Cj961//Up8+fdSsWTNJcnktU1NT1aZNG3Xt2lWPPfaYKlSokGt977zzjhITExUXF6c1a9bI29tb06ZN05IlSzR79myFhYXlul50dLRmz56tgQMH6uabb9bgwYMlSaGhoUpPT1eLFi2UnJysZ555RpGRkfrss88UHx+vU6dOufyBJUkzZ87UhQsX1KdPH9ntdpUpUybP49m7d2999NFH6t69u5o0aaLExES1a9cuR79t27apWbNmCg4O1gsvvCAfHx9NmzZNLVq00MqVK9WoUaM8tyFJJ0+eVNu2bdW5c2d169ZNn376qfr16ydfX1/n65jttddek5eXl4YMGaLTp09r3LhxevTRR7Vu3bqrbkO6/F44e/as+vbtK5vNpnHjxqljx47as2cPs8iiYgGWZZ0+fdqSZHXo0CFf/ZOSkixJVu/evV3ahwwZYkmyEhMTnW3h4eGWJGvVqlXOtmPHjll2u90aPHiws23v3r2WJOuNN95wGTMuLs4KDw/PUcPw4cOtP7+F3377bUuSdfz48Tzrzt7GzJkznW316tWzypcvb6WmpjrbNm/ebHl5eVlPPPFEju317NnTZcyHHnrIKlu2bJ7b/PN+BAQEWJZlWZ06dbJatWplWZZlZWVlWRUrVrRGjhyZ6zG4cOGClZWVlWM/7Ha7NWrUKGfb+vXrc+xbtpiYGEuSNXXq1FyXxcTEuLR9//33liTr3//+t7Vnzx4rMDDQio2NveY+Wtbl17tdu3YubRMmTLAkWR999JGzLTMz02rcuLEVGBhonTlzxrlfkqzg4GDr2LFj19xW9vuwf//+Lu3du3e3JFnDhw93tsXGxlq+vr7W7t27nW2HDh2ygoKCrObNmzvbli9fbkmyli9f7mzLPn5vvvmmsy0jI8P53snMzHRZNzo62srIyHD2feeddyxJ1tatW51tV76vs/e9bNmy1okTJ5ztX331lSXJ+vrrr695PFA4nBqFJOnMmTOSpKCgoHz1X7x4sSRp0KBBLu3Zs4ArryXWrFnTOUuRLs8SoqKitGfPnkLXfKXsa4tfffVVvm9COHz4sJKSkhQfH+8y67jtttt0zz33OPfzz5566imX35s1a6bU1FTnMcyP7t27a8WKFTpy5IgSExN15MiRXE+LSpevK3p5Xf6nmpWVpdTUVOdp340bN+Z7m3a7XT169MhX33vvvVd9+/bVqFGj1LFjR/n5+WnatGn53taVFi9erIoVK6pbt27ONh8fHw0YMEBpaWlauXKlS/+HH35YoaGh+RpXkgYMGODSfuUjG1lZWVqyZIliY2NVtWpVZ3ulSpXUvXt3rV69+pqvX4kSJdS3b1/n776+vurbt6+OHTumDRs2uPTt0aOHyzXN7Pd+ft7vXbp0UenSpQu1LgqHIIQkKTg4WJJ09uzZfPXfv3+/vLy8VK1aNZf2ihUrKiQkRPv373dpr1KlSo4xSpcurZMnTxay4py6dOmipk2bqnfv3qpQoYK6du2qTz/99KqhmF1nVFRUjmXR0dFKSUnRuXPnXNqv3Jfs/7QKsi9t27ZVUFCQ5s2bpzlz5qhhw4Y5jmU2h8Oht99+W7feeqvsdrvKlSun0NBQbdmyRadPn873Nm+66aYC3XAyfvx4lSlTRklJSZo4caLKly+f73WvtH//ft16663OQM8WHR3tXP5nkZGR+R7Xy8tLt9xyi0v7la/n8ePHdf78+TxfZ4fDoYMHD151W2FhYQoICHBpq169uiQ5r4Nmu573iDveXygYghCSLgdhWFiYfv311wKtd+XNKnnx9vbOtd2yrEJvIysry+V3f39/rVq1Sj/88IMef/xxbdmyRV26dNE999yTo+/1uJ59yWa329WxY0clJCToyy+/zHM2KF1+Lm/QoEFq3ry5PvroI33//fdaunSpatWqVaDb7/39/fPdV7p8Y8mxY8ckSVu3bi3QuteroLXeaK7nPeKO9xcKhiCE0wMPPKDdu3drzZo11+wbHh4uh8OhXbt2ubQfPXpUp06dct4B6g6lS5d2ucMy25WzCEny8vJSq1at9NZbb2n79u0aM2aMEhMTtXz58lzHzq5z586dOZb99ttvKleuXI5ZgLt0795dmzZt0tmzZ9W1a9c8+82fP18tW7bUjBkz1LVrV917771q3bp1jmOS3z9K8uPcuXPq0aOHatasqT59+mjcuHHXdedieHi4du3alSO4f/vtN+fywo7rcDi0e/dul/YrX8/Q0FCVLFkyz9fZy8tLlStXvuq2Dh06lOPswO+//y5JfELMXxxBCKcXXnhBAQEB6t27t44ePZpj+e7du/XOO+9IunxqT5ImTJjg0uett96SpFzv2iusW265RadPn9aWLVucbYcPH85xZ+qJEydyrJv9YPmVj3Rkq1SpkurVq6eEhASXYPn111+1ZMkS534WhZYtW2r06NGaPHmyKlasmGc/b2/vHLOBzz77TP/73/9c2rIDO7c/GgrqxRdf1IEDB5SQkKC33npLERERiouLy/M4Xkvbtm115MgRzZs3z9l26dIlTZo0SYGBgYqJiSnUuG3atJEkTZw40aX9yvelt7e37r33Xn311VcupzGPHj2quXPn6u6773ZeHsjLpUuXXK6TZmZmatq0aQoNDVWDBg0KVT9uDDw+AadbbrlFc+fOVZcuXRQdHe3yyTI//fST83Z3Sapbt67i4uI0ffp0nTp1SjExMfr555+VkJCg2NhYtWzZ0m11de3aVS+++KIeeughDRgwQOfPn9d7772n6tWru9wsMmrUKK1atUrt2rVTeHi4jh07pilTpujmm2/W3Xffnef4b7zxhtq0aaPGjRurV69ezscnSpUqVajPqswvLy8v/fOf/7xmvwceeECjRo1Sjx491KRJE23dulVz5sxxuelDuvz6hYSEaOrUqQoKClJAQIAaNWqU7+tt2RITEzVlyhQNHz7c+TjHzJkz1aJFC73yyisaN25cgcaTpD59+mjatGmKj4/Xhg0bFBERofnz5+vHH3/UhAkT8n2T1pXq1aunbt26acqUKTp9+rSaNGmiZcuW5XhmT5L+/e9/O58z7d+/v0qUKKFp06YpIyMjX/sUFham119/Xfv27VP16tU1b948JSUlafr06TzW8Ffn0XtWcUP6/fffrSeffNKKiIiwfH19raCgIKtp06bWpEmTrAsXLjj7Xbx40Ro5cqQVGRlp+fj4WJUrV7aGDRvm0seycr+d3rJy3raf1+MTlmVZS5YssWrXrm35+vpaUVFR1kcffZTj8Ylly5ZZHTp0sMLCwixfX18rLCzM6tatm/X777/n2MaVjxj88MMPVtOmTS1/f38rODjYat++vbV9+3aXPtnbu/LxjJkzZ1qSrL179+Z5TC3L9fGJvOT1+MTgwYOtSpUqWf7+/lbTpk2tNWvW5PrYw1dffWXVrFnTKlGihMt+xsTEWLVq1cp1m38e58yZM1Z4eLh1++23WxcvXnTpN3DgQMvLy8tas2bNVfchr9f76NGjVo8ePaxy5cpZvr6+Vp06dXK8Dld7D+QlPT3dGjBggFW2bFkrICDAat++vXXw4MEcj09YlmVt3LjRuu+++6zAwECrZMmSVsuWLa2ffvrJpU9ej0/UqlXL+uWXX6zGjRtbfn5+Vnh4uDV58uRc1/3ss89y3a8/729ej0/ktu+57Qvcx2ZZXIEFgKtp0aKFUlJSCnwzGf4auEYIADAaQQgAMBpBCAAwGtcIAQBGY0YIADAaQQgAMBpBCAAw2t/yk2X86z/j6RIAjzu5frKnSwA8zi8fKceMEABgNIIQAGA0ghAAYDSCEABgNIIQAGA0ghAAYDSCEABgNIIQAGA0ghAAYDSCEABgNIIQAGA0ghAAYDSCEABgNIIQAGA0ghAAYDSCEABgNIIQAGA0ghAAYDSCEABgNIIQAGA0ghAAYDSCEABgNIIQAGA0ghAAYDSCEABgNIIQAGA0ghAAYDSCEABgNIIQAGA0ghAAYDSCEABgNIIQAGA0ghAAYDSCEABgNIIQAGA0ghAAYDSCEABgNIIQAGA0ghAAYDSCEABgNIIQAGA0ghAAYDSCEABgNIIQAGA0ghAAYDSCEABgNIIQAGA0ghAAYDSCEABgNIIQAGA0ghAAYDSCEABgNIIQAGA0ghAAYDSCEABgNIIQAGA0ghAAYDSCEABgNIIQAGA0ghAAYDSCEABgNIIQAGA0ghAAYDSCEABgNIIQAGA0ghAAYDSCEABgNIIQAGA0ghAAYDSCEABgtBKeLgB/TU8+cree7NRM4WFlJEk79hzRq9O/1ZIft6tKpTLauXhUrus9OnSGvvhhU3GWChS7T+bOUcLMGUpJOa7qUTX00suvqM5tt3m6LOTBZlmW5eki3M2//jOeLuFvr23z2spyOJR84Lhssumx9o00MK6V7ur6mnbuO6rQ0oEu/Xs+3FQDn2ityHte1rn0TA9VbZaT6yd7ugQjffftYv1z2Av65/CRqlOnrubMTtCSJd/pq2++U9myZT1dnnH88jHd49QoCmXxql/1/ert2n3guJIPHNOId79W2vkM3XlbpBwOS0dTz7r8PNiyrj5fupEQxN/e7ISZ6tips2Ifeli3VKumfw4fKT8/Py344nNPl4Y8EIS4bl5eNj1yXwMF+Ptq3Za9OZbXj66sejUqK2HBGg9UBxSfi5mZ2rF9m+5q3MTZ5uXlpbvuaqItm7kkcKPy6DXClJQUffjhh1qzZo2OHDkiSapYsaKaNGmi+Ph4hYaGerI8XEOtamFakTBYfr4llJaeoS6D39dve47k6BcX21g79hzW2s05QxL4Ozl56qSysrJynAItW7as9u7d46GqcC0emxGuX79e1atX18SJE1WqVCk1b95czZs3V6lSpTRx4kTVqFFDv/zyyzXHycjI0JkzZ1x+LEdWMewBft93VI26jlXzJ8br/c9W6/1Rj6tG1YouffzsPurS5g5mgwBuWB6bET777LN65JFHNHXqVNlsNpdllmXpqaee0rPPPqs1a67+H+jYsWM1cuRIlzbvCg3lU+lOt9cMVxcvZWnPwRRJ0qYdB9WgVhU93a2Fnh3zibPPQ63rqaSfr+Z887OnygSKTemQ0vL29lZqaqpLe2pqqsqVK+ehqnAtHpsRbt68WQMHDswRgpJks9k0cOBAJSUlXXOcYcOG6fTp0y4/JSo0KIKKcS1eNpvsvq5/W8XHNtGilVuVcjLNQ1UBxcfH11fRNWtp3dr//we8w+HQunVrdFvd+h6sDFfjsRlhxYoV9fPPP6tGjRq5Lv/5559VoUKFa45jt9tlt9td2mxe3m6pEXkb9eyD+v7HbTp4+KSCAvzUpc0dan7HrWrff4qzT9XK5XT37bco9tn3PFgpULwej+uhV15+UbVq1VbtOrfpo9kJSk9PV+xDHT1dGvLgsSAcMmSI+vTpow0bNqhVq1bO0Dt69KiWLVum999/X+PHj/dUebiG0DKBmjH6CVUsF6zTaRf0667/qX3/KUpc95uzT1yHxvrf0VP6Yc1vVxkJ+Hu5v01bnTxxQlMmT1RKynFF1YjWlGkfqCynRm9YHn2gft68eXr77be1YcMGZWVdvsHF29tbDRo00KBBg9S5c+dCjcsD9QAP1ANS/h6ovyE+WebixYtKSbl800W5cuXk4+NzXeMRhABBCEj5C8Ib4rNGfXx8VKlSJU+XAQAwEJ8sAwAwGkEIADAaQQgAMBpBCAAwGkEIADAaQQgAMBpBCAAwGkEIADAaQQgAMBpBCAAwGkEIADAaQQgAMBpBCAAwGkEIADAaQQgAMBpBCAAwGkEIADAaQQgAMBpBCAAwGkEIADAaQQgAMBpBCAAwGkEIADAaQQgAMBpBCAAwGkEIADAaQQgAMBpBCAAwGkEIADAaQQgAMBpBCAAwGkEIADAaQQgAMBpBCAAwGkEIADAaQQgAMBpBCAAwGkEIADAaQQgAMBpBCAAwGkEIADAaQQgAMBpBCAAwGkEIADAaQQgAMBpBCAAwGkEIADAaQQgAMBpBCAAwGkEIADAaQQgAMFqJ/HRauHBhvgd88MEHC10MAADFLV9BGBsbm6/BbDabsrKyrqceAACKVb6C0OFwFHUdAAB4BNcIAQBGy9eM8Ernzp3TypUrdeDAAWVmZrosGzBggFsKAwCgOBQ4CDdt2qS2bdvq/PnzOnfunMqUKaOUlBSVLFlS5cuXJwgBAH8pBT41OnDgQLVv314nT56Uv7+/1q5dq/3796tBgwYaP358UdQIAECRKXAQJiUlafDgwfLy8pK3t7cyMjJUuXJljRs3Ti+//HJR1AgAQJEpcBD6+PjIy+vyauXLl9eBAwckSaVKldLBgwfdWx0AAEWswNcI69evr/Xr1+vWW29VTEyM/vWvfyklJUWzZ89W7dq1i6JGAACKTIFnhK+++qoqVaokSRozZoxKly6tfv366fjx45o+fbrbCwQAoCjZLMuyPF2Eu/nXf8bTJQAed3L9ZE+XAHicXz7Oe/JAPQDAaAW+RhgZGSmbzZbn8j179lxXQQAAFKcCB+Hzzz/v8vvFixe1adMmfffddxo6dKi76gIAoFgUOAife+65XNvfffdd/fLLL9ddEAAAxclt1wjbtGmjzz//3F3DAQBQLNwWhPPnz1eZMmXcNRwAAMWiUA/U//lmGcuydOTIER0/flxTpkxxa3EAABS1Aj9HOGLECJcg9PLyUmhoqFq0aKEaNWq4vcDCuHDJ0xUAntdpxnpPlwB43Dd9G16zT4FnhCNGjChMLQAA3JAKfI3Q29tbx44dy9Gempoqb29vtxQFAEBxKXAQ5nUmNSMjQ76+vtddEAAAxSnfp0YnTpwoSbLZbPrggw8UGBjoXJaVlaVVq1bdMNcIAQDIr3wH4dtvvy3p8oxw6tSpLqdBfX19FRERoalTp7q/QgAAilC+g3Dv3r2SpJYtW+qLL75Q6dKli6woAACKS4HvGl2+fHlR1AEAgEcU+GaZhx9+WK+//nqO9nHjxumRRx5xS1EAABSXAgfhqlWr1LZt2xztbdq00apVq9xSFAAAxaXAQZiWlpbrYxI+Pj46c+aMW4oCAKC4FDgI69Spo3nz5uVo/+STT1SzZk23FAUAQHEp8M0yr7zyijp27Kjdu3frH//4hyRp2bJlmjt3rubPn+/2AgEAKEoFDsL27dtrwYIFevXVVzV//nz5+/urbt26SkxM5GuYAAB/OQX+9okrnTlzRh9//LFmzJihDRs2KCsry121FRrfPgHw7ROAlL9vnyj0F/OuWrVKcXFxCgsL05tvvql//OMfWrt2bWGHAwDAIwp0avTIkSOaNWuWZsyYoTNnzqhz587KyMjQggULuFEGAPCXlO8ZYfv27RUVFaUtW7ZowoQJOnTokCZNmlSUtQEAUOTyPSP89ttvNWDAAPXr10+33nprUdYEAECxyfeMcPXq1Tp79qwaNGigRo0aafLkyUpJSSnK2gAAKHL5DsK77rpL77//vg4fPqy+ffvqk08+UVhYmBwOh5YuXaqzZ88WZZ0AABSJAt81GhAQoJ49e2r16tXaunWrBg8erNdee03ly5fXgw8+WBQ1AgBQZAr9+IQkRUVFady4cfrjjz/08ccfu6smAACKzXUFYTZvb2/FxsZq4cKF7hgOAIBi45YgBADgr4ogBAAYjSAEABiNIAQAGI0gBAAYjSAEABiNIAQAGI0gBAAYjSAEABiNIAQAGI0gBAAYjSAEABiNIAQAGI0gBAAYjSAEABiNIAQAGI0gBAAYjSAEABiNIAQAGI0gBAAYjSAEABiNIAQAGI0gBAAYjSAEABiNIAQAGI0gBAAYjSAEABiNIAQAGI0gBAAYjSAEABiNIAQAGI0gBAAYjSAEABiNIAQAGI0gBAAYjSAEABiNIAQAGI0gBAAYjSAEABiNIAQAGI0gBAAYjSAEABiNIAQAGI0gBAAYjSAEABiNIAQAGI0gBAAYrYSnC8Dfzydz5yhh5gylpBxX9agaeunlV1Tntts8XRbgdo/Uq6TGkaV1c4ifMrMc2nEkTbPW/aH/nb4gSQq0e+vRO25S/ZuDFRpo1+n0i1q775Q++uV/Op+Z5eHqkY0ZIdzqu28Xa/y4serb/2l98tmXioqqoX59eyk1NdXTpQFuVzssSIu2HdWQBdv1yjc7VcLLptHtqste4vJ/rWVL+qpMSR99uPagnv7sV01YsVcNKpfSczERni0cLghCuNXshJnq2KmzYh96WLdUq6Z/Dh8pPz8/Lfjic0+XBrjd8MW/a9nvqTpw8oL2nkjX2yv2qnyQXdVCS0qS9p9M19ilu/Xz/tM6ciZDWw6d1X/W/6E7w0PkZfNw8XAiCOE2FzMztWP7Nt3VuImzzcvLS3fd1URbNm/yYGVA8Qjw9ZYkpV3I+7RngK+3zmdmyWEVV1W4FoIQbnPy1EllZWWpbNmyLu1ly5ZVSkqKh6oCiodN0pNNqmjb4bPafzI91z7BfiXU9fYwfbfjePEWh6u6oYPw4MGD6tmz51X7ZGRk6MyZMy4/GRkZxVQhAFzW7+5whZfx17hlu3Nd7u/jpeH336oDJ9M1d8OhYq4OV3NDB+GJEyeUkJBw1T5jx45VqVKlXH7eeH1sMVWIPysdUlre3t45boxJTU1VuXLlPFQVUPSealpFDcND9PLXvyn13MUcy/19vDSqbZTSL2ZpzJJkZXFe9Ibi0ccnFi5ceNXle/bsueYYw4YN06BBg1zaLG/7ddWFwvHx9VV0zVpat3aN/tGqtSTJ4XBo3bo16trtMQ9XBxSNp5pWUePI0hq28DcdPZuZY7m/j5dGt4vSxSyHRn+frItZhOCNxqNBGBsbK5vNJsvK+41hs1391iq73S673TX4LlxyS3kohMfjeuiVl19UrVq1VbvObfpodoLS09MV+1BHT5cGuF2/u8MVU62M/v19ss5fzFKI/+X/Us9nZikzy3KGoL2El8Yn7pG/j5f8fS6fiDtz4RI3zNwgPBqElSpV0pQpU9ShQ4dclyclJalBgwbFXBWux/1t2urkiROaMnmiUlKOK6pGtKZM+0BlOTWKv6F2tcpLkl57sIZL+9vL92jZ76mqVi5ANSoESpI+6Ob6oRI952zWsbScM0gUP5t1telYEXvwwQdVr149jRo1KtflmzdvVv369eVwOAo0LjNCQOo0Y72nSwA87pu+Da/Zx6MzwqFDh+rcuXN5Lq9WrZqWL19ejBUBAEzj0SBs1qzZVZcHBAQoJiammKoBAJjohn58AgCAokYQAgCMRhACAIxGEAIAjEYQAgCMRhACAIxGEAIAjEYQAgCMRhACAIxGEAIAjEYQAgCMRhACAIxGEAIAjEYQAgCMRhACAIxGEAIAjEYQAgCMRhACAIxGEAIAjEYQAgCMRhACAIxGEAIAjEYQAgCMRhACAIxGEAIAjEYQAgCMRhACAIxGEAIAjEYQAgCMRhACAIxGEAIAjEYQAgCMRhACAIxGEAIAjEYQAgCMRhACAIxGEAIAjEYQAgCMRhACAIxGEAIAjEYQAgCMRhACAIxGEAIAjEYQAgCMRhACAIxGEAIAjEYQAgCMRhACAIxGEAIAjEYQAgCMRhACAIxGEAIAjEYQAgCMRhACAIxGEAIAjEYQAgCMRhACAIxGEAIAjEYQAgCMRhACAIxGEAIAjEYQAgCMRhACAIxGEAIAjEYQAgCMRhACAIxGEAIAjEYQAgCMRhACAIxGEAIAjGazLMvydBH4e8nIyNDYsWM1bNgw2e12T5cDeAT/Dv46CEK43ZkzZ1SqVCmdPn1awcHBni4H8Aj+Hfx1cGoUAGA0ghAAYDSCEABgNIIQbme32zV8+HBuEIDR+Hfw18HNMgAAozEjBAAYjSAEABiNIAQAGI0gBAAYjSCE27377ruKiIiQn5+fGjVqpJ9//tnTJQHFZtWqVWrfvr3CwsJks9m0YMECT5eEayAI4Vbz5s3ToEGDNHz4cG3cuFF169bVfffdp2PHjnm6NKBYnDt3TnXr1tW7777r6VKQTzw+Abdq1KiRGjZsqMmTJ0uSHA6HKleurGeffVYvvfSSh6sDipfNZtOXX36p2NhYT5eCq2BGCLfJzMzUhg0b1Lp1a2ebl5eXWrdurTVr1niwMgDIG0EIt0lJSVFWVpYqVKjg0l6hQgUdOXLEQ1UBwNURhAAAoxGEcJty5crJ29tbR48edWk/evSoKlas6KGqAODqCEK4ja+vrxo0aKBly5Y52xwOh5YtW6bGjRt7sDIAyFsJTxeAv5dBgwYpLi5Od9xxh+68805NmDBB586dU48ePTxdGlAs0tLSlJyc7Px97969SkpKUpkyZVSlShUPVoa88PgE3G7y5Ml64403dOTIEdWrV08TJ05Uo0aNPF0WUCxWrFihli1b5miPi4vTrFmzir8gXBNBCAAwGtcIAQBGIwgBAEYjCAEARiMIAQBGIwgBAEYjCAEARiMIAQBGIwgBAEYjCIG/gfj4eJcvf23RooWef/75Yq9jxYoVstlsOnXqVLFvGygsghAoQvHx8bLZbLLZbPL19VW1atU0atQoXbp0qUi3+8UXX2j06NH56kt4wXR86DZQxO6//37NnDlTGRkZWrx4sZ5++mn5+Pho2LBhLv0yMzPl6+vrlm2WKVPGLeMAJmBGCBQxu92uihUrKjw8XP369VPr1q21cOFC5+nMMWPGKCwsTFFRUZKkgwcPqnPnzgoJCVGZMmXUoUMH7du3zzleVlaWBg0apJCQEJUtW1YvvPCCrvzI4CtPjWZkZOjFF19U5cqVZbfbVa1aNc2YMUP79u1zfkB06dKlZbPZFB8fL+nyV2iNHTtWkZGR8vf3V926dTV//nyX7SxevFjVq1eXv7+/WrZs6VIn8FdBEALFzN/fX5mZmZKkZcuWaefOnVq6dKm++eYbXbx4Uffdd5+CgoL03//+Vz/++KMCAwN1//33O9d58803NWvWLH344YdavXq1Tpw4oS+//PKq23ziiSf08ccfa+LEidqxY4emTZumwMBAVa5cWZ9//rkkaefOnTp8+LDeeecdSdLYsWP1n//8R1OnTtW2bds0cOBAPfbYY1q5cqWky4HdsWNHtW/fXklJSerdu7deeumlojpsQNGxABSZuLg4q0OHDpZlWZbD4bCWLl1q2e12a8iQIVZcXJxVoUIFKyMjw9l/9uzZVlRUlOVwOJxtGRkZlr+/v/X9999blmVZlSpVssaNG+dcfvHiRevmm292bseyLCsmJsZ67rnnLMuyrJ07d1qSrKVLl+Za4/Llyy1J1smTJ51tFy5csEqWLGn99NNPLn179epldevWzbIsyxo2bJhVs2ZNl+UvvvhijrGAGx3XCIEi9s033ygwMFAXL16Uw+FQ9+7dNWLECD399NOqU6eOy3XBzZs3Kzk5WUFBQS5jXLhwQbt379bp06d1+PBhl+93LFGihO64444cp0ezJSUlydvbWzExMfmuOTk5WefPn9c999zj0p6Zman69etLknbs2JHjeyYbN26c720ANwqCEChiLVu21HvvvSdfX1+FhYWpRIn//88uICDApW9aWpoaNGigOXPm5BgnNDS0UNv39/cv8DppaWmSpEWLFummm25yWWa32wtVB3CjIgiBIhYQEKBq1arlq+/tt9+uefPmqXz58goODs61T6VKlbRu3To1b95cknTp0iVt2LBBt99+e67969SpI4fDoZUrV6p169Y5lmfPSLOyspxtNWvWlN1u14EDB/KcSUZHR2vhwoUubWvXrr32TgI3GG6WAW4gjz76qMqVK6cOHTrov//9r/bu3asVK1ZowIAB+uOPPyRJzz33nF577TUtWLBAv/32m/r373/VZwAjIiIUFxennj17asGCBc4xP/30U0lSeHi4bDabvvnmGx0/flxpaWkKCgrSkCFDNHDgQCUkJGj37t3auHGjJk2apISEBEnSU089pV27dmno0KHauXOn5s6dq1mzZhX1IQLcjiAEbiAlS5bUqlWrVKVKFXXs2FHR0dHq1auXLly44JwhDh48WI8//rji4uLUuHFjBQUF6aGHHrrquO+99546deqk/v37q0aNGnryySd17tw5SdJNN92kkSNH6qWXXlKFChX0zDPPSJJGjx6tV155RWPHjlV0dLTuv/9+LVq0SJGRkZKkKlWq6PPPP9eCBQtUt25dTZ06Va+++moRHh2gaNisvK6wAwBgAGaEAACjEYQAAKMRhAAAoxGEAACjEYQAAKMRhAAAoxGEAACjEYQAAKMRhAAAoxGEAACjEYQAAKP9P++0khFg5qPGAAAAAElFTkSuQmCC",
      "text/plain": [
       "<Figure size 500x400 with 1 Axes>"
      ]
     },
     "metadata": {},
     "output_type": "display_data"
    },
    {
     "data": {
      "image/png": "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",
      "text/plain": [
       "<Figure size 500x400 with 1 Axes>"
      ]
     },
     "metadata": {},
     "output_type": "display_data"
    },
    {
     "data": {
<<<<<<< HEAD
      "image/png": "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",
=======
      "image/png": "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",
>>>>>>> 9a90a5be71c54cffa5fcfa23d1482b064b8d48ef
      "text/plain": [
       "<Figure size 500x400 with 1 Axes>"
      ]
     },
     "metadata": {},
     "output_type": "display_data"
    }
   ],
   "source": [
    "import seaborn as sns\n",
    "import matplotlib.pyplot as plt\n",
    "from sklearn.metrics import confusion_matrix\n",
    "import numpy as np\n",
    "\n",
    "pred_list = np.array(pred_list)\n",
    "label_list = np.array(label_list)\n",
    "\n",
    "for i , class_name in enumerate(dict_for_label.keys()):\n",
    "    if i >= num_classes:\n",
    "        break\n",
    "\n",
    "    cm = confusion_matrix(label_list[:, i], pred_list[:, i])\n",
    "    \n",
    "    plt.figure(figsize=(5, 4))\n",
    "    sns.heatmap(cm, annot=True, fmt='d', cmap='Blues', cbar=False)\n",
    "    plt.title(f'Confusion Matrix for {class_name}')\n",
    "    plt.ylabel('Actual')\n",
    "    plt.xlabel('Predicted')\n",
    "    plt.show()\n"
   ]
  },
  {
   "cell_type": "markdown",
   "metadata": {},
   "source": [
    "計算hamming loss"
   ]
  },
  {
   "cell_type": "code",
<<<<<<< HEAD
   "execution_count": 20,
=======
   "execution_count": 92,
>>>>>>> 9a90a5be71c54cffa5fcfa23d1482b064b8d48ef
   "metadata": {},
   "outputs": [
    {
     "name": "stdout",
     "output_type": "stream",
     "text": [
<<<<<<< HEAD
      "Hamming Loss: 0.029661016949152543\n"
=======
      "Hamming Loss: 0.0423728813559322\n"
>>>>>>> 9a90a5be71c54cffa5fcfa23d1482b064b8d48ef
     ]
    }
   ],
   "source": [
    "from sklearn.metrics import hamming_loss\n",
    "\n",
    "# 計算 Hamming Loss\n",
    "hloss = hamming_loss(label_list, pred_list)\n",
    "print(f\"Hamming Loss: {hloss}\")"
   ]
  },
  {
   "cell_type": "markdown",
   "metadata": {},
   "source": [
    "測試那些有海豚的船聲"
   ]
  },
  {
   "cell_type": "code",
<<<<<<< HEAD
   "execution_count": null,
   "metadata": {},
   "outputs": [],
=======
   "execution_count": 7,
   "metadata": {},
   "outputs": [
    {
     "data": {
      "text/plain": [
       "<All keys matched successfully>"
      ]
     },
     "execution_count": 7,
     "metadata": {},
     "output_type": "execute_result"
    }
   ],
>>>>>>> 9a90a5be71c54cffa5fcfa23d1482b064b8d48ef
   "source": [
    "model = CNN_Model()\n",
    "model.load_state_dict(torch.load('MyModel_v3_91percent.pt'))"
   ]
  },
  {
   "cell_type": "code",
<<<<<<< HEAD
   "execution_count": null,
=======
   "execution_count": 25,
>>>>>>> 9a90a5be71c54cffa5fcfa23d1482b064b8d48ef
   "metadata": {},
   "outputs": [
    {
     "name": "stdout",
     "output_type": "stream",
     "text": [
      "Predicting image 0: denoise_20201017_221700.png\n",
      "Predicted class: boat\n",
      "Predicting image 1: denoise_20201017_203800.png\n",
      "Predicted class: boat\n",
      "Predicting image 2: denoise_20201017_123457.png\n",
      "Predicted class: boat\n",
      "Predicting image 3: denoise_20201016_233700.png\n",
      "Predicted class: boat\n",
      "Predicting image 4: denoise_20201016_120407.png\n",
      "Predicted class: boat\n"
     ]
    }
   ],
   "source": [
    "from PIL import Image\n",
    "imgPaths = ['./dataset_v2/test/boat/denoise_20201017_221700.png',\n",
    "           './dataset_v2/test/boat/denoise_20201017_203800.png',\n",
    "           './dataset_v2/test/boat/denoise_20201017_123457.png',\n",
    "           './dataset_v2/test/boat/denoise_20201016_233700.png',\n",
    "           './dataset_v2/test/boat/denoise_20201016_120407.png'\n",
    "           ]\n",
    "\n",
    "for num, imgPath in enumerate(imgPaths):\n",
    "    img = Image.open(imgPath).convert('RGB')\n",
    "    img = transform(img)    # apply the transform to the image\n",
    "\n",
    "    img = img.unsqueeze(0)  # add a batch dimension [batch, channels, width, height]\n",
    "\n",
    "    with torch.no_grad():\n",
    "        print(\"Predicting image %d: %s\" %(num ,imgPath.split('/')[-1]))\n",
    "        # calculate outputs by running images through the network\n",
    "        outputs = model(img)\n",
    "        # the class with the highest energy is what we choose as prediction\n",
    "        predicted_prob = torch.sigmoid(outputs)\n",
    "        \n",
    "        # 將每個類別的預測概率與閾值 0.5 比較，大於 0.5 的表示預測該類別存在 (標記為 1)\n",
    "        predicted = (predicted_prob > 0.5).int()\n",
    "        # find key by value in dictionary\n",
    "        print(f'Predicted class: {list(dict_for_label.keys())[list(dict_for_label.values()).index(predicted.tolist()[0])]}')"
   ]
  },
  {
   "cell_type": "code",
   "execution_count": null,
   "metadata": {},
   "outputs": [],
   "source": []
  }
 ],
 "metadata": {
  "kernelspec": {
<<<<<<< HEAD
   "display_name": "tf-gpu",
=======
   "display_name": "pytorch",
>>>>>>> 9a90a5be71c54cffa5fcfa23d1482b064b8d48ef
   "language": "python",
   "name": "python3"
  },
  "language_info": {
   "codemirror_mode": {
    "name": "ipython",
    "version": 3
   },
   "file_extension": ".py",
   "mimetype": "text/x-python",
   "name": "python",
   "nbconvert_exporter": "python",
   "pygments_lexer": "ipython3",
<<<<<<< HEAD
   "version": "3.9.20"
=======
   "version": "3.9.18"
>>>>>>> 9a90a5be71c54cffa5fcfa23d1482b064b8d48ef
  }
 },
 "nbformat": 4,
 "nbformat_minor": 2
}
