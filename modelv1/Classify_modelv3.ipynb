{
 "cells": [
  {
   "cell_type": "markdown",
   "metadata": {},
   "source": [
    "#### 基本設置 + 設cuda"
   ]
  },
  {
   "cell_type": "code",
   "execution_count": 51,
   "metadata": {},
   "outputs": [
    {
     "name": "stdout",
     "output_type": "stream",
     "text": [
      "cuda\n"
     ]
    }
   ],
   "source": [
    "# Load in relevant libraries, and alias where appropriate\n",
    "import torch\n",
    "import torch.nn as nn\n",
    "import torchvision\n",
    "import torchvision.transforms as transforms\n",
    "\n",
    "# Define relevant variables for the ML task\n",
    "batch_size = 16\n",
    "num_classes = 4\n",
    "learning_rate = 0.0005\n",
    "num_epochs = 15\n",
    "\n",
    "# Device will determine whether to run the training on GPU or CPU.\n",
    "device = torch.device('cuda' if torch.cuda.is_available() else 'cpu')\n",
    "print(device)"
   ]
  },
  {
   "cell_type": "markdown",
   "metadata": {},
   "source": [
    "#### 讀取資料集"
   ]
  },
  {
   "cell_type": "code",
   "execution_count": 52,
   "metadata": {},
   "outputs": [
    {
     "name": "stdout",
     "output_type": "stream",
     "text": [
      "['boat', 'dolphin', 'fish', 'whale']\n",
      "{'boat': 0, 'dolphin': 1, 'fish': 2, 'whale': 3}\n",
      "102\n",
      "torch.Size([3, 480, 256])\n"
     ]
    }
   ],
   "source": [
    "import torchvision.datasets as dset\n",
    "\n",
    "# 定义数据转换\n",
    "transform = transforms.Compose([\n",
    "    transforms.Resize((480, 256)),  # 将图像调整为指定大小\n",
    "    transforms.ToTensor(),           # 将图像转换为张量\n",
    "])\n",
    "\n",
    "# 加載圖像數據集，並只考慮指定的資料夾\n",
    "# dataset = dset.ImageFolder(root='./Merge_Dataset/train', transform=transform)\n",
    "dataset = dset.ImageFolder(root='./dataset_v2/train', transform=transform)\n",
    "\n",
    "\n",
    "# 獲取相關信息\n",
    "print(dataset.classes)  # 根據分的文件夾的名字來確定類別\n",
    "print(dataset.class_to_idx)  # 按順序為這些類別定義索引為 0, 1, ...\n",
    "print(len(dataset))  # 返回數據集的大小\n",
    "\n",
    "print(dataset[0][0].size())  # 返回第一張圖片的大小"
   ]
  },
  {
   "cell_type": "code",
   "execution_count": 53,
   "metadata": {},
   "outputs": [
    {
     "name": "stdout",
     "output_type": "stream",
     "text": [
      "7\n",
      "3\n"
     ]
    }
   ],
   "source": [
    "from torch.utils.data import DataLoader\n",
    "\n",
    "# 加載圖像數據集，並只考慮指定的資料夾\n",
    "train_dataset = dset.ImageFolder(root='./dataset_v2/train', transform=transform)\n",
    "test_dataset = dset.ImageFolder(root='./dataset_v2/test', transform=transform)\n",
    "\n",
    "# 创建 DataLoader 对象\n",
    "train_loader = DataLoader(train_dataset, batch_size=batch_size, shuffle=True)\n",
    "test_loader = DataLoader(test_dataset, batch_size=batch_size, shuffle=False)\n",
    "print(len(train_loader))\n",
    "print(len(test_loader))"
   ]
  },
  {
   "cell_type": "markdown",
   "metadata": {},
   "source": [
    "#### 創立model"
   ]
  },
  {
   "cell_type": "code",
   "execution_count": 54,
   "metadata": {},
   "outputs": [],
   "source": [
    "# Create CNN Model\n",
    "class CNN_Model(nn.Module):\n",
    "    def __init__(self):\n",
    "        super(CNN_Model, self).__init__()\n",
    "        # Convolution , input_shape=(3,480,256)\n",
    "        self.layer1 = self.conv_module(3, 8, 5, 1) #output_shape=(8,238,126)\n",
    "        self.layer2 = self.conv_module(8, 14, 3, 1) #output_shape=(14,118,62)\n",
    "        self.layer3 = self.conv_twice(14, 44, 3, 1) #output_shape=(44,58,30)\n",
    "        self.layer4 = self.conv_twice(44, 20, 3, 1) #output_shape=(20,28,14)\n",
    "        self.layer5 = self.conv_twice(20, 8, 5, 1) #output_shape=(8,12,5)\n",
    "        # # Fully connected 1\n",
    "        self.fc1 = nn.Linear(8*12*5, 4) \n",
    "        \n",
    "    def forward(self, x):\n",
    "        # Convolutions\n",
    "        out = self.layer1(x)\n",
    "        out = self.layer2(out)\n",
    "        out = self.layer3(out)\n",
    "        out = self.layer4(out)\n",
    "        out = self.layer5(out)\n",
    "        # Resize\n",
    "        out = out.view(out.size(0), -1)\n",
    "        # Linear function (readout)\n",
    "        out = self.fc1(out)\n",
    "        return out\n",
    "    \n",
    "    def conv_module(self, in_channels, out_channels, kernel_size, stride, padding=0):\n",
    "        \"By giving the convolutional parameters, the function will return a convolutional module\"\n",
    "        return nn.Sequential(\n",
    "            nn.Conv2d(in_channels, out_channels, kernel_size, stride, padding),\n",
    "            nn.ReLU(),\n",
    "            nn.BatchNorm2d(out_channels),\n",
    "            nn.MaxPool2d(kernel_size=2)\n",
    "        )\n",
    "    def conv_twice(self, in_channels, out_channels, kernel_size, stride, padding=0):\n",
    "        \"By giving the convolutional parameters, the function will return a double convolutional module\"\n",
    "        return nn.Sequential(\n",
    "            nn.Conv2d(in_channels, out_channels, kernel_size=1, stride=stride, padding=padding),    # expand the channels\n",
    "            nn.ReLU(),\n",
    "            nn.Conv2d(out_channels, out_channels, kernel_size, stride, padding),\n",
    "            nn.ReLU(),\n",
    "            nn.BatchNorm2d(out_channels),\n",
    "            nn.MaxPool2d(kernel_size=2)\n",
    "        )"
   ]
  },
  {
   "cell_type": "code",
   "execution_count": 55,
   "metadata": {},
   "outputs": [
    {
     "name": "stdout",
     "output_type": "stream",
     "text": [
      "Model's structure:\n",
      " =================================================================\n",
      "Layer (type:depth-idx)                   Param #\n",
      "=================================================================\n",
      "CNN_Model                                --\n",
      "├─Sequential: 1-1                        --\n",
      "│    └─Conv2d: 2-1                       608\n",
      "│    └─ReLU: 2-2                         --\n",
      "│    └─BatchNorm2d: 2-3                  16\n",
      "│    └─MaxPool2d: 2-4                    --\n",
      "├─Sequential: 1-2                        --\n",
      "│    └─Conv2d: 2-5                       1,022\n",
      "│    └─ReLU: 2-6                         --\n",
      "│    └─BatchNorm2d: 2-7                  28\n",
      "│    └─MaxPool2d: 2-8                    --\n",
      "├─Sequential: 1-3                        --\n",
      "│    └─Conv2d: 2-9                       660\n",
      "│    └─ReLU: 2-10                        --\n",
      "│    └─Conv2d: 2-11                      17,468\n",
      "│    └─ReLU: 2-12                        --\n",
      "│    └─BatchNorm2d: 2-13                 88\n",
      "│    └─MaxPool2d: 2-14                   --\n",
      "├─Sequential: 1-4                        --\n",
      "│    └─Conv2d: 2-15                      900\n",
      "│    └─ReLU: 2-16                        --\n",
      "│    └─Conv2d: 2-17                      3,620\n",
      "│    └─ReLU: 2-18                        --\n",
      "│    └─BatchNorm2d: 2-19                 40\n",
      "│    └─MaxPool2d: 2-20                   --\n",
      "├─Sequential: 1-5                        --\n",
      "│    └─Conv2d: 2-21                      168\n",
      "│    └─ReLU: 2-22                        --\n",
      "│    └─Conv2d: 2-23                      1,608\n",
      "│    └─ReLU: 2-24                        --\n",
      "│    └─BatchNorm2d: 2-25                 16\n",
      "│    └─MaxPool2d: 2-26                   --\n",
      "├─Linear: 1-6                            1,924\n",
      "=================================================================\n",
      "Total params: 28,166\n",
      "Trainable params: 28,166\n",
      "Non-trainable params: 0\n",
      "=================================================================\n"
     ]
    }
   ],
   "source": [
    "import torchinfo\n",
    "\n",
    "model = CNN_Model()\n",
    "print(f\"Model's structure:\\n {torchinfo.summary(model)}\")"
   ]
  },
  {
   "cell_type": "markdown",
   "metadata": {},
   "source": [
    "#### 訓練模型"
   ]
  },
  {
   "cell_type": "code",
   "execution_count": 56,
   "metadata": {},
   "outputs": [
    {
     "name": "stdout",
     "output_type": "stream",
     "text": [
      "Epoch:1/15, Time:6.64 seconds, Train Loss: 1.1550\n",
      "Epoch:2/15, Time:6.63 seconds, Train Loss: 0.5960\n",
      "Epoch:3/15, Time:6.66 seconds, Train Loss: 0.3853\n",
      "Epoch:4/15, Time:6.57 seconds, Train Loss: 0.2959\n",
      "Epoch:5/15, Time:6.69 seconds, Train Loss: 0.1693\n",
      "Epoch:6/15, Time:6.61 seconds, Train Loss: 0.0951\n",
      "Epoch:7/15, Time:6.62 seconds, Train Loss: 0.0680\n",
      "Epoch:8/15, Time:6.61 seconds, Train Loss: 0.0391\n",
      "Epoch:9/15, Time:6.58 seconds, Train Loss: 0.0279\n",
      "Epoch:10/15, Time:6.57 seconds, Train Loss: 0.0133\n",
      "Epoch:11/15, Time:6.60 seconds, Train Loss: 0.0125\n",
      "Epoch:12/15, Time:6.59 seconds, Train Loss: 0.0075\n",
      "Epoch:13/15, Time:6.58 seconds, Train Loss: 0.0096\n",
      "Epoch:14/15, Time:6.60 seconds, Train Loss: 0.0070\n",
      "Epoch:15/15, Time:6.62 seconds, Train Loss: 0.0059\n",
      "Model saved to ClassifiedModel_v3.pt\n"
     ]
    }
   ],
   "source": [
    "import time\n",
    "# File name.\n",
    "modelSaveName = \"ClassifiedModel_v3.pt\"\n",
    "# Create an optimizer.\n",
    "optimizer = torch.optim.AdamW(params=model.parameters(), lr=learning_rate)\n",
    "# Create a loss function\n",
    "lossFunc = nn.CrossEntropyLoss()\n",
    "# Move model to \"device\".\n",
    "model = model.to(device)\n",
    "\n",
    "bestValidAcc = 0\n",
    "for epoch in range(1, num_epochs+1):\n",
    "  start_time = time.time()  # 計算每個epoch開始的時間\n",
    "  # Training mode.\n",
    "  model.train() \n",
    "  train_loss = 0.0\n",
    "  for iter, (input, target) in enumerate(train_loader):\n",
    "    # Move data to \"device\".\n",
    "    input = input.to(device)\n",
    "    target = target.to(device)\n",
    "    # Clear optimizer gradients.\n",
    "    optimizer.zero_grad()\n",
    "    \n",
    "    # Forward pass.\n",
    "    output = model(input)\n",
    "    # Compute the loss.\n",
    "    loss=lossFunc(output, target)\n",
    "    # Loss backward propagation.\n",
    "    loss.backward()\n",
    "    # Update all learnable parameters.\n",
    "    optimizer.step()\n",
    "    # update training loss\n",
    "    train_loss += loss.item()\n",
    "\n",
    "  # statistics\n",
    "  # 計算每個樣本的平均損失\n",
    "  train_loss = train_loss / len(train_loader)\n",
    "  end_time = time.time()  # 計算每個epoch結束的時間\n",
    "  epoch_time = end_time - start_time  # 計算每個epoch所花的時間\n",
    "  print(\"Epoch:{}/{}, Time:{:.2f} seconds, Train Loss: {:.4f}\".format(epoch, num_epochs, epoch_time, train_loss))\n",
    "\n",
    "# 存檔\n",
    "torch.save(model.state_dict(), modelSaveName, _use_new_zipfile_serialization=False)\n",
    "print('Model saved to %s' % modelSaveName)"
   ]
  },
  {
   "cell_type": "markdown",
   "metadata": {},
   "source": [
    "測試模型"
   ]
  },
  {
   "cell_type": "code",
   "execution_count": 57,
   "metadata": {},
   "outputs": [
    {
     "data": {
      "text/plain": [
       "<All keys matched successfully>"
      ]
     },
     "execution_count": 57,
     "metadata": {},
     "output_type": "execute_result"
    }
   ],
   "source": [
    "model = CNN_Model()\n",
    "model.load_state_dict(torch.load('ClassifiedModel_v3.pt'))"
   ]
  },
  {
   "cell_type": "code",
   "execution_count": 58,
   "metadata": {},
   "outputs": [
    {
     "name": "stdout",
     "output_type": "stream",
     "text": [
      "Accuracy of the network on the 37 test images: 86.48648648648648 %\n"
     ]
    }
   ],
   "source": [
    "correct = 0\n",
    "total = 0\n",
    "# 新增這邊記錄真實跟預測值\n",
    "pred_list = []\n",
    "label_list = []\n",
    "\n",
    "with torch.no_grad():\n",
    "    for data in test_loader:\n",
    "        images, labels = data\n",
    "        # calculate outputs by running images through the network\n",
    "        outputs = model(images)\n",
    "        # the class with the highest energy is what we choose as prediction\n",
    "        _, predicted = torch.max(outputs.data, 1)\n",
    "        total += labels.size(0)\n",
    "        correct += (predicted == labels).sum().item()\n",
    "\n",
    "        pred_list.extend(predicted.cpu().numpy())\n",
    "        label_list.extend(labels.cpu().numpy())\n",
    "\n",
    "print(f'Accuracy of the network on the {total} test images: {100 * correct / total} %')"
   ]
  },
  {
   "cell_type": "markdown",
   "metadata": {},
   "source": [
    "印出一batch當中的每分類預測機率。"
   ]
  },
  {
   "cell_type": "code",
   "execution_count": 59,
   "metadata": {},
   "outputs": [
    {
     "name": "stdout",
     "output_type": "stream",
     "text": [
      "Predicted probabilities for sample 0:\n",
      "boat: 0.9874, dolphin: 0.0012, fish: 0.0102, whale: 0.0012, \n",
      "Predicted probabilities for sample 1:\n",
      "boat: 0.8465, dolphin: 0.0014, fish: 0.1354, whale: 0.0168, \n",
      "Predicted probabilities for sample 2:\n",
      "boat: 0.9868, dolphin: 0.0035, fish: 0.0074, whale: 0.0023, \n",
      "Predicted probabilities for sample 3:\n",
      "boat: 0.9769, dolphin: 0.0068, fish: 0.0158, whale: 0.0005, \n",
      "Predicted probabilities for sample 4:\n",
      "boat: 0.9826, dolphin: 0.0034, fish: 0.0080, whale: 0.0059, \n",
      "Predicted probabilities for sample 5:\n",
      "boat: 0.9340, dolphin: 0.0071, fish: 0.0557, whale: 0.0032, \n",
      "Predicted probabilities for sample 6:\n",
      "boat: 0.9920, dolphin: 0.0005, fish: 0.0063, whale: 0.0012, \n",
      "Predicted probabilities for sample 7:\n",
      "boat: 0.9608, dolphin: 0.0040, fish: 0.0334, whale: 0.0019, \n",
      "Predicted probabilities for sample 8:\n",
      "boat: 0.9923, dolphin: 0.0007, fish: 0.0054, whale: 0.0016, \n",
      "Predicted probabilities for sample 9:\n",
      "boat: 0.9407, dolphin: 0.0041, fish: 0.0469, whale: 0.0084, \n",
      "Predicted probabilities for sample 10:\n",
      "boat: 0.9669, dolphin: 0.0054, fish: 0.0254, whale: 0.0023, \n",
      "Predicted probabilities for sample 11:\n",
      "boat: 0.9822, dolphin: 0.0008, fish: 0.0143, whale: 0.0027, \n",
      "Predicted probabilities for sample 12:\n",
      "boat: 0.2349, dolphin: 0.6161, fish: 0.1168, whale: 0.0322, \n",
      "Predicted probabilities for sample 13:\n",
      "boat: 0.2819, dolphin: 0.6350, fish: 0.0424, whale: 0.0408, \n",
      "Predicted probabilities for sample 14:\n",
      "boat: 0.5365, dolphin: 0.3012, fish: 0.0674, whale: 0.0949, \n",
      "Predicted probabilities for sample 15:\n",
      "boat: 0.0073, dolphin: 0.1410, fish: 0.0302, whale: 0.8215, \n"
     ]
    }
   ],
   "source": [
    "class_names = ['boat', 'dolphin', 'fish', 'whale']\n",
    "\n",
    "with torch.no_grad():\n",
    "    for data in test_loader:\n",
    "        images, labels = data\n",
    "        # calculate outputs by running images through the network\n",
    "        outputs = model(images)\n",
    "        # use softmax to get the probability\n",
    "        probabilities = torch.nn.functional.softmax(outputs, dim=1)\n",
    "        \n",
    "         # 印出每張圖片的預測機率\n",
    "        for i in range(len(probabilities)):\n",
    "            print(f'Predicted probabilities for sample {i}:')\n",
    "\n",
    "            # 印出每個類別的預測機率\n",
    "            for j, class_name in enumerate(class_names):\n",
    "                print(f'{class_name}: {probabilities[i][j].item():.4f}', end=', ')\n",
    "\n",
    "            print()\n",
    "\n",
    "        break"
   ]
  },
  {
   "cell_type": "markdown",
   "metadata": {},
   "source": [
    "測試那些有海豚的船聲"
   ]
  },
  {
   "cell_type": "code",
   "execution_count": 60,
   "metadata": {},
   "outputs": [
    {
     "name": "stdout",
     "output_type": "stream",
     "text": [
      "Predicting image 0: denoise_20201017_221700.png\n",
      "Predicted class: boat\n",
      "Predicted probabilities:\n",
      "boat: 0.9170, dolphin: 0.0208, fish: 0.0537, whale: 0.0085, \n",
      "\n",
      "Predicting image 1: denoise_20201017_203800.png\n",
      "Predicted class: boat\n",
      "Predicted probabilities:\n",
      "boat: 0.9802, dolphin: 0.0047, fish: 0.0111, whale: 0.0039, \n",
      "\n",
      "Predicting image 2: denoise_20201017_123457.png\n",
      "Predicted class: boat\n",
      "Predicted probabilities:\n",
      "boat: 0.8818, dolphin: 0.0473, fish: 0.0666, whale: 0.0042, \n",
      "\n",
      "Predicting image 3: denoise_20201016_233700.png\n",
      "Predicted class: boat\n",
      "Predicted probabilities:\n",
      "boat: 0.8648, dolphin: 0.0056, fish: 0.0644, whale: 0.0652, \n",
      "\n",
      "Predicting image 4: denoise_20201016_120407.png\n",
      "Predicted class: boat\n",
      "Predicted probabilities:\n",
      "boat: 0.9772, dolphin: 0.0010, fish: 0.0210, whale: 0.0008, \n",
      "\n"
     ]
    }
   ],
   "source": [
    "from PIL import Image\n",
    "imgPaths = ['./dataset_v2/test/boat/denoise_20201017_221700.png',\n",
    "           './dataset_v2/test/boat/denoise_20201017_203800.png',\n",
    "           './dataset_v2/test/boat/denoise_20201017_123457.png',\n",
    "           './dataset_v2/test/boat/denoise_20201016_233700.png',\n",
    "           './dataset_v2/test/boat/denoise_20201016_120407.png'\n",
    "           ]\n",
    "\n",
    "for num, imgPath in enumerate(imgPaths):\n",
    "    img = Image.open(imgPath).convert('RGB')\n",
    "    img = transform(img)    # apply the transform to the image\n",
    "\n",
    "    img = img.unsqueeze(0)  # add a batch dimension [batch, channels, width, height]\n",
    "\n",
    "    with torch.no_grad():\n",
    "        print(\"Predicting image %d: %s\" %(num ,imgPath.split('/')[-1]))\n",
    "        # calculate outputs by running images through the network\n",
    "        outputs = model(img)\n",
    "        # the class with the highest energy is what we choose as prediction\n",
    "        _, predicted = torch.max(outputs.data, 1)\n",
    "        print(f'Predicted class: {class_names[predicted.item()]}')\n",
    "\n",
    "        # use softmax to get the probability\n",
    "        probabilities = torch.nn.functional.softmax(outputs, dim=1)\n",
    "        print(f'Predicted probabilities:')\n",
    "        for j, class_name in enumerate(class_names):\n",
    "            print(f'{class_name}: {probabilities[0][j].item():.4f}', end=', ')\n",
    "        print(\"\\n\")"
   ]
  },
  {
   "cell_type": "markdown",
   "metadata": {},
   "source": [
    "Confusion matrix"
   ]
  },
  {
   "cell_type": "code",
   "execution_count": 61,
   "metadata": {},
   "outputs": [
    {
     "name": "stdout",
     "output_type": "stream",
     "text": [
      "{'boat': 0, 'dolphin': 1, 'fish': 2, 'whale': 3}\n"
     ]
    },
    {
     "data": {
      "image/png": "[encoded data removed]",
      "text/plain": [
       "<Figure size 640x480 with 2 Axes>"
      ]
     },
     "metadata": {},
     "output_type": "display_data"
    }
   ],
   "source": [
    "import numpy as np\n",
    "import matplotlib.pyplot as plt\n",
    "from sklearn.metrics import confusion_matrix, ConfusionMatrixDisplay\n",
    "\n",
    "# 印出類別對應的索引\n",
    "print(test_dataset.class_to_idx)  # 按順序為這些類別定義索引為 0, 1, ...\n",
    "\n",
    "# 生成混淆矩阵\n",
    "cm = confusion_matrix(label_list, pred_list)\n",
    "\n",
    "# 绘制混淆矩阵\n",
    "disp = ConfusionMatrixDisplay(confusion_matrix=cm, display_labels=np.arange(4))\n",
    "disp.plot(cmap=plt.cm.Blues)\n",
    "\n",
    "plt.title(\"Confusion Matrix\")\n",
    "plt.show()"
   ]
  }
 ],
 "metadata": {
  "kernelspec": {
   "display_name": "pytorch",
   "language": "python",
   "name": "python3"
  },
  "language_info": {
   "codemirror_mode": {
    "name": "ipython",
    "version": 3
   },
   "file_extension": ".py",
   "mimetype": "text/x-python",
   "name": "python",
   "nbconvert_exporter": "python",
   "pygments_lexer": "ipython3",
   "version": "3.9.18"
  }
 },
 "nbformat": 4,
 "nbformat_minor": 2
}
