{
 "cells": [
  {
   "cell_type": "markdown",
   "metadata": {},
   "source": [
    "#### 基本設置 + 設cuda"
   ]
  },
  {
   "cell_type": "code",
   "execution_count": 1,
   "metadata": {},
   "outputs": [
    {
     "name": "stdout",
     "output_type": "stream",
     "text": [
      "cuda\n"
     ]
    }
   ],
   "source": [
    "# Load in relevant libraries, and alias where appropriate\n",
    "import torch\n",
    "import torch.nn as nn\n",
    "import torchvision\n",
    "import torchvision.transforms as transforms\n",
    "\n",
    "# Define relevant variables for the ML task\n",
    "batch_size = 16\n",
    "num_classes = 4\n",
    "learning_rate = 0.002\n",
    "num_epochs = 20\n",
    "\n",
    "# Device will determine whether to run the training on GPU or CPU.\n",
    "device = torch.device('cuda' if torch.cuda.is_available() else 'cpu')\n",
    "print(device)"
   ]
  },
  {
   "cell_type": "markdown",
   "metadata": {},
   "source": [
    "#### 讀取資料集"
   ]
  },
  {
   "cell_type": "code",
   "execution_count": 2,
   "metadata": {},
   "outputs": [
    {
     "name": "stdout",
     "output_type": "stream",
     "text": [
      "['boat', 'dolphin', 'fish', 'whale']\n",
      "{'boat': 0, 'dolphin': 1, 'fish': 2, 'whale': 3}\n",
      "102\n",
      "torch.Size([3, 128, 480])\n"
     ]
    }
   ],
   "source": [
    "import torchvision.datasets as dset\n",
    "\n",
    "# 定义数据转换\n",
    "transform = transforms.Compose([\n",
    "    transforms.Resize((128, 480)),  # 将图像调整为指定大小\n",
    "    transforms.ToTensor(),           # 将图像转换为张量\n",
    "])\n",
    "\n",
    "# 加載圖像數據集，並只考慮指定的資料夾\n",
    "# dataset = dset.ImageFolder(root='./Merge_Dataset/train', transform=transform)\n",
    "dataset = dset.ImageFolder(root='./dataset_v2/train', transform=transform)\n",
    "\n",
    "\n",
    "# 獲取相關信息\n",
    "print(dataset.classes)  # 根據分的文件夾的名字來確定類別\n",
    "print(dataset.class_to_idx)  # 按順序為這些類別定義索引為 0, 1, ...\n",
    "print(len(dataset))  # 返回數據集的大小\n",
    "\n",
    "print(dataset[0][0].size())  # 返回第一張圖片的大小"
   ]
  },
  {
   "cell_type": "code",
   "execution_count": 3,
   "metadata": {},
   "outputs": [
    {
     "name": "stdout",
     "output_type": "stream",
     "text": [
      "7\n",
      "3\n"
     ]
    }
   ],
   "source": [
    "from torch.utils.data import DataLoader\n",
    "\n",
    "# 加載圖像數據集，並只考慮指定的資料夾\n",
    "train_dataset = dset.ImageFolder(root='./dataset_v2/train', transform=transform)\n",
    "test_dataset = dset.ImageFolder(root='./dataset_v2/test', transform=transform)\n",
    "\n",
    "# 创建 DataLoader 对象\n",
    "train_loader = DataLoader(train_dataset, batch_size=batch_size, shuffle=True)\n",
    "test_loader = DataLoader(test_dataset, batch_size=batch_size, shuffle=False)\n",
    "print(len(train_loader))\n",
    "print(len(test_loader))"
   ]
  },
  {
   "cell_type": "markdown",
   "metadata": {},
   "source": [
    "#### 創立model"
   ]
  },
  {
   "cell_type": "code",
   "execution_count": 4,
   "metadata": {},
   "outputs": [],
   "source": [
    "# Create CNN Model\n",
    "class CNN_Model(nn.Module):\n",
    "    def __init__(self):\n",
    "        super(CNN_Model, self).__init__()\n",
    "        # Convolution 1 , input_shape=(3,128,480)\n",
    "        self.cnn1 = nn.Conv2d(in_channels=3, out_channels=25, kernel_size=3, stride=1, padding=0) #output_shape=(25,126,478)\n",
    "        self.relu1 = nn.ReLU() # activation\n",
    "        # Max pool 1\n",
    "        self.maxpool1 = nn.MaxPool2d(kernel_size=2) #output_shape=(25,63,239)\n",
    "        # Convolution 2\n",
    "        self.cnn2 = nn.Conv2d(in_channels=25, out_channels=32, kernel_size=6, stride=1, padding=0) #output_shape=(32,58,234)\n",
    "        self.relu2 = nn.ReLU() # activation\n",
    "        # Max pool 2\n",
    "        self.maxpool2 = nn.MaxPool2d(kernel_size=2) #output_shape=(32,29,117)\n",
    "        # Convolution 3\n",
    "        self.cnn3 = nn.Conv2d(in_channels=32, out_channels=32, kernel_size=4, stride=1, padding=0) #output_shape=(32,26,114)\n",
    "        self.relu3 = nn.ReLU() # activation\n",
    "        # Max pool 3\n",
    "        self.maxpool3 = nn.MaxPool2d(kernel_size=2) #output_shape=(32,13,57)\n",
    "        # Convolution 4\n",
    "        self.cnn4 = nn.Conv2d(in_channels=32, out_channels=32, kernel_size=2, stride=1, padding=0) #output_shape=(32,26,114)\n",
    "        self.relu4 = nn.ReLU() # activation\n",
    "        # Max pool 4\n",
    "        self.maxpool4 = nn.MaxPool2d(kernel_size=2) #output_shape=(32,6,28)\n",
    "        # Fully connected 1 ,#input_shape=(32*13*57)\n",
    "        self.fc1 = nn.Linear(32 * 6 * 28, 1024) \n",
    "        # Fully connected 2\n",
    "        self.fc2 = nn.Linear(1024, 32)\n",
    "        # Fully connected 3\n",
    "        self.fc3 = nn.Linear(32, 4)\n",
    "    \n",
    "    def forward(self, x):\n",
    "        # Convolution 1\n",
    "        out = self.cnn1(x)\n",
    "        out = self.relu1(out)\n",
    "        # Max pool 1\n",
    "        out = self.maxpool1(out)\n",
    "        # Convolution 2 \n",
    "        out = self.cnn2(out)\n",
    "        out = self.relu2(out)\n",
    "        # Max pool 2\n",
    "        out = self.maxpool2(out)\n",
    "        # Convolution 3\n",
    "        out = self.cnn3(out)\n",
    "        out = self.relu3(out)\n",
    "        # Max pool 3\n",
    "        out = self.maxpool3(out)\n",
    "        # Convolution 4\n",
    "        out = self.cnn4(out)\n",
    "        out = self.relu4(out)\n",
    "        # Max pool 4\n",
    "        out = self.maxpool4(out)\n",
    "        out = out.view(out.size(0), -1)\n",
    "        # Linear function (readout)\n",
    "        out = self.fc1(out)\n",
    "        out = self.fc2(out)\n",
    "        out = self.fc3(out)\n",
    "        return out"
   ]
  },
  {
   "cell_type": "code",
   "execution_count": 5,
   "metadata": {},
   "outputs": [
    {
     "name": "stdout",
     "output_type": "stream",
     "text": [
      "Model's structure:\n",
      " =================================================================\n",
      "Layer (type:depth-idx)                   Param #\n",
      "=================================================================\n",
      "CNN_Model                                --\n",
      "├─Conv2d: 1-1                            700\n",
      "├─ReLU: 1-2                              --\n",
      "├─MaxPool2d: 1-3                         --\n",
      "├─Conv2d: 1-4                            28,832\n",
      "├─ReLU: 1-5                              --\n",
      "├─MaxPool2d: 1-6                         --\n",
      "├─Conv2d: 1-7                            16,416\n",
      "├─ReLU: 1-8                              --\n",
      "├─MaxPool2d: 1-9                         --\n",
      "├─Conv2d: 1-10                           4,128\n",
      "├─ReLU: 1-11                             --\n",
      "├─MaxPool2d: 1-12                        --\n",
      "├─Linear: 1-13                           5,506,048\n",
      "├─Linear: 1-14                           32,800\n",
      "├─Linear: 1-15                           132\n",
      "=================================================================\n",
      "Total params: 5,589,056\n",
      "Trainable params: 5,589,056\n",
      "Non-trainable params: 0\n",
      "=================================================================\n"
     ]
    }
   ],
   "source": [
    "import torchinfo\n",
    "import torchinfo\n",
    "\n",
    "model = CNN_Model()\n",
    "print(f\"Model's structure:\\n {torchinfo.summary(model)}\")"
   ]
  },
  {
   "cell_type": "markdown",
   "metadata": {},
   "source": [
    "#### 訓練模型"
   ]
  },
  {
   "cell_type": "code",
   "execution_count": 6,
   "metadata": {},
   "outputs": [
    {
     "name": "stdout",
     "output_type": "stream",
     "text": [
      "Epoch:1/20, Time:80.84 seconds, Train Loss: 0.1027\n",
      "Epoch:2/20, Time:3.01 seconds, Train Loss: 0.0958\n",
      "Epoch:3/20, Time:2.76 seconds, Train Loss: 0.0961\n",
      "Epoch:4/20, Time:2.74 seconds, Train Loss: 0.0937\n",
      "Epoch:5/20, Time:2.76 seconds, Train Loss: 0.0918\n",
      "Epoch:6/20, Time:2.71 seconds, Train Loss: 0.0901\n",
      "Epoch:7/20, Time:2.76 seconds, Train Loss: 0.0867\n",
      "Epoch:8/20, Time:2.76 seconds, Train Loss: 0.0839\n",
      "Epoch:9/20, Time:2.76 seconds, Train Loss: 0.0799\n",
      "Epoch:10/20, Time:2.71 seconds, Train Loss: 0.0810\n",
      "Epoch:11/20, Time:2.71 seconds, Train Loss: 0.0719\n",
      "Epoch:12/20, Time:2.73 seconds, Train Loss: 0.0605\n",
      "Epoch:13/20, Time:2.77 seconds, Train Loss: 0.0642\n",
      "Epoch:14/20, Time:2.75 seconds, Train Loss: 0.0536\n",
      "Epoch:15/20, Time:2.74 seconds, Train Loss: 0.0454\n",
      "Epoch:16/20, Time:2.73 seconds, Train Loss: 0.0400\n",
      "Epoch:17/20, Time:2.94 seconds, Train Loss: 0.0348\n",
      "Epoch:18/20, Time:2.84 seconds, Train Loss: 0.0657\n",
      "Epoch:19/20, Time:2.83 seconds, Train Loss: 0.0429\n",
      "Epoch:20/20, Time:2.71 seconds, Train Loss: 0.0623\n",
      "Model saved to MyModel_v2.pt\n"
     ]
    }
   ],
   "source": [
    "import time\n",
    "# Move model to \"device\".\n",
    "model = model.to(device)\n",
    "# File name.\n",
    "modelSaveName = \"MyModel_v2.pt\"\n",
    "# Create an optimizer.\n",
    "optimizer = torch.optim.AdamW(params=model.parameters(), lr=learning_rate)\n",
    "# Create a loss function\n",
    "lossFunc = nn.CrossEntropyLoss()\n",
    "\n",
    "bestValidAcc = 0\n",
    "for epoch in range(1, num_epochs+1):\n",
    "  start_time = time.time()  # 計算每個epoch開始的時間\n",
    "  # Training mode.\n",
    "  model.train()\n",
    "  train_loss = 0.0\n",
    "  for iter, (input, target) in enumerate(train_loader):\n",
    "    # Move data to \"device\".\n",
    "    input = input.to(device)\n",
    "    target = target.to(device)\n",
    "    # Clear optimizer gradients.\n",
    "    optimizer.zero_grad()\n",
    "    \n",
    "    # Forward pass.\n",
    "    output = model(input)\n",
    "    # Compute the loss.\n",
    "    loss=lossFunc(output, target)\n",
    "    # Loss backward propagation.\n",
    "    loss.backward()\n",
    "    # Update all learnable parameters.\n",
    "    optimizer.step()\n",
    "    # update training loss\n",
    "    train_loss += loss.item()\n",
    "\n",
    "  # statistics\n",
    "  # 計算每個樣本的平均損失\n",
    "  train_loss = train_loss / len(train_loader.dataset)\n",
    "  end_time = time.time()  # 計算每個epoch結束的時間\n",
    "  epoch_time = end_time - start_time  # 計算每個epoch所花的時間\n",
    "  print(\"Epoch:{}/{}, Time:{:.2f} seconds, Train Loss: {:.4f}\".format(epoch, num_epochs, epoch_time, train_loss))\n",
    "\n",
    "# 存檔\n",
    "torch.save(model.state_dict(), modelSaveName, _use_new_zipfile_serialization=False)\n",
    "print('Model saved to %s' % modelSaveName)"
   ]
  },
  {
   "cell_type": "markdown",
   "metadata": {},
   "source": [
    "測試模型"
   ]
  },
  {
   "cell_type": "code",
   "execution_count": 7,
   "metadata": {},
   "outputs": [
    {
     "data": {
      "text/plain": [
       "<All keys matched successfully>"
      ]
     },
     "execution_count": 7,
     "metadata": {},
     "output_type": "execute_result"
    }
   ],
   "source": [
    "model = CNN_Model()\n",
    "model.load_state_dict(torch.load('MyModel_v2.pt'))"
   ]
  },
  {
   "cell_type": "code",
   "execution_count": 8,
   "metadata": {},
   "outputs": [
    {
     "name": "stdout",
     "output_type": "stream",
     "text": [
      "Accuracy of the network on the 37 test images: 78.37837837837837 %\n"
     ]
    }
   ],
   "source": [
    "correct = 0\n",
    "total = 0\n",
    "# 新增這邊記錄真實跟預測值\n",
    "pred_list = []\n",
    "label_list = []\n",
    "\n",
    "with torch.no_grad():\n",
    "    for data in test_loader:\n",
    "        images, labels = data\n",
    "        # calculate outputs by running images through the network\n",
    "        outputs = model(images)\n",
    "        # the class with the highest energy is what we choose as prediction\n",
    "        _, predicted = torch.max(outputs.data, 1)\n",
    "        total += labels.size(0)\n",
    "        correct += (predicted == labels).sum().item()\n",
    "\n",
    "        pred_list.extend(predicted.cpu().numpy())\n",
    "        label_list.extend(labels.cpu().numpy())\n",
    "\n",
    "print(f'Accuracy of the network on the {total} test images: {100 * correct / total} %')"
   ]
  },
  {
   "cell_type": "markdown",
   "metadata": {},
   "source": [
    "印出一batch當中的每分類預測機率。"
   ]
  },
  {
   "cell_type": "code",
   "execution_count": 9,
   "metadata": {},
   "outputs": [
    {
     "name": "stdout",
     "output_type": "stream",
     "text": [
      "Predicted probabilities for sample 0:\n",
      "boat: 1.0000, dolphin: 0.0000, fish: 0.0000, whale: 0.0000, \n",
      "Predicted probabilities for sample 1:\n",
      "boat: 0.0000, dolphin: 1.0000, fish: 0.0000, whale: 0.0000, \n",
      "Predicted probabilities for sample 2:\n",
      "boat: 0.9822, dolphin: 0.0106, fish: 0.0000, whale: 0.0072, \n",
      "Predicted probabilities for sample 3:\n",
      "boat: 0.0008, dolphin: 0.9958, fish: 0.0000, whale: 0.0034, \n",
      "Predicted probabilities for sample 4:\n",
      "boat: 1.0000, dolphin: 0.0000, fish: 0.0000, whale: 0.0000, \n",
      "Predicted probabilities for sample 5:\n",
      "boat: 0.0000, dolphin: 0.9997, fish: 0.0000, whale: 0.0003, \n",
      "Predicted probabilities for sample 6:\n",
      "boat: 0.9484, dolphin: 0.0382, fish: 0.0000, whale: 0.0133, \n",
      "Predicted probabilities for sample 7:\n",
      "boat: 0.0146, dolphin: 0.9854, fish: 0.0000, whale: 0.0000, \n",
      "Predicted probabilities for sample 8:\n",
      "boat: 1.0000, dolphin: 0.0000, fish: 0.0000, whale: 0.0000, \n",
      "Predicted probabilities for sample 9:\n",
      "boat: 1.0000, dolphin: 0.0000, fish: 0.0000, whale: 0.0000, \n",
      "Predicted probabilities for sample 10:\n",
      "boat: 1.0000, dolphin: 0.0000, fish: 0.0000, whale: 0.0000, \n",
      "Predicted probabilities for sample 11:\n",
      "boat: 1.0000, dolphin: 0.0000, fish: 0.0000, whale: 0.0000, \n",
      "Predicted probabilities for sample 12:\n",
      "boat: 0.0000, dolphin: 1.0000, fish: 0.0000, whale: 0.0000, \n",
      "Predicted probabilities for sample 13:\n",
      "boat: 0.0000, dolphin: 1.0000, fish: 0.0000, whale: 0.0000, \n",
      "Predicted probabilities for sample 14:\n",
      "boat: 0.0000, dolphin: 1.0000, fish: 0.0000, whale: 0.0000, \n",
      "Predicted probabilities for sample 15:\n",
      "boat: 0.0462, dolphin: 0.1625, fish: 0.0625, whale: 0.7289, \n"
     ]
    }
   ],
   "source": [
    "class_names = ['boat', 'dolphin', 'fish', 'whale']\n",
    "\n",
    "with torch.no_grad():\n",
    "    for data in test_loader:\n",
    "        images, labels = data\n",
    "        # calculate outputs by running images through the network\n",
    "        outputs = model(images)\n",
    "        # use softmax to get the probability\n",
    "        probabilities = torch.nn.functional.softmax(outputs, dim=1)\n",
    "        \n",
    "         # 印出每張圖片的預測機率\n",
    "        for i in range(len(probabilities)):\n",
    "            print(f'Predicted probabilities for sample {i}:')\n",
    "\n",
    "            # 印出每個類別的預測機率\n",
    "            for j, class_name in enumerate(class_names):\n",
    "                print(f'{class_name}: {probabilities[i][j].item():.4f}', end=', ')\n",
    "\n",
    "            print()\n",
    "\n",
    "        break"
   ]
  },
  {
   "cell_type": "markdown",
   "metadata": {},
   "source": [
    "測試那些有海豚的船聲"
   ]
  },
  {
   "cell_type": "code",
   "execution_count": 10,
   "metadata": {},
   "outputs": [
    {
     "name": "stdout",
     "output_type": "stream",
     "text": [
      "Predicted class: dolphin\n",
      "Predicted probabilities:\n",
      "boat: 0.0000, dolphin: 0.9997, fish: 0.0000, whale: 0.0003, "
     ]
    }
   ],
   "source": [
    "from PIL import Image\n",
    "imgPath = './dataset_v2/test/boat/denoise_20201017_221700.png'\n",
    "img = Image.open(imgPath).convert('RGB')\n",
    "img = transform(img)    # apply the transform to the image\n",
    "\n",
    "img = img.unsqueeze(0)  # add a batch dimension [batch, channels, width, height]\n",
    "\n",
    "with torch.no_grad():\n",
    "    # calculate outputs by running images through the network\n",
    "    outputs = model(img)\n",
    "    # the class with the highest energy is what we choose as prediction\n",
    "    _, predicted = torch.max(outputs.data, 1)\n",
    "    print(f'Predicted class: {class_names[predicted.item()]}')\n",
    "\n",
    "    # use softmax to get the probability\n",
    "    probabilities = torch.nn.functional.softmax(outputs, dim=1)\n",
    "    print(f'Predicted probabilities:')\n",
    "    for j, class_name in enumerate(class_names):\n",
    "        print(f'{class_name}: {probabilities[0][j].item():.4f}', end=', ')"
   ]
  },
  {
   "cell_type": "markdown",
   "metadata": {},
   "source": [
    "Confusion matrix"
   ]
  },
  {
   "cell_type": "code",
   "execution_count": 11,
   "metadata": {},
   "outputs": [
    {
     "name": "stdout",
     "output_type": "stream",
     "text": [
      "{'boat': 0, 'dolphin': 1, 'fish': 2, 'whale': 3}\n"
     ]
    },
    {
     "data": {
      "image/png": "[encoded data removed]",
      "text/plain": [
       "<Figure size 640x480 with 2 Axes>"
      ]
     },
     "metadata": {},
     "output_type": "display_data"
    }
   ],
   "source": [
    "import numpy as np\n",
    "import matplotlib.pyplot as plt\n",
    "from sklearn.metrics import confusion_matrix, ConfusionMatrixDisplay\n",
    "\n",
    "# 印出類別對應的索引\n",
    "print(test_dataset.class_to_idx)  # 按順序為這些類別定義索引為 0, 1, ...\n",
    "\n",
    "# 生成混淆矩阵\n",
    "cm = confusion_matrix(label_list, pred_list)\n",
    "\n",
    "# 绘制混淆矩阵\n",
    "disp = ConfusionMatrixDisplay(confusion_matrix=cm, display_labels=np.arange(4))\n",
    "disp.plot(cmap=plt.cm.Blues)\n",
    "\n",
    "plt.title(\"Confusion Matrix\")\n",
    "plt.show()"
   ]
  },
  {
   "cell_type": "markdown",
   "metadata": {},
   "source": [
    "Load best model"
   ]
  },
  {
   "cell_type": "code",
   "execution_count": 12,
   "metadata": {},
   "outputs": [
    {
     "data": {
      "text/plain": [
       "CNN_Model(\n",
       "  (cnn1): Conv2d(3, 25, kernel_size=(3, 3), stride=(1, 1))\n",
       "  (relu1): ReLU()\n",
       "  (maxpool1): MaxPool2d(kernel_size=2, stride=2, padding=0, dilation=1, ceil_mode=False)\n",
       "  (cnn2): Conv2d(25, 32, kernel_size=(6, 6), stride=(1, 1))\n",
       "  (relu2): ReLU()\n",
       "  (maxpool2): MaxPool2d(kernel_size=2, stride=2, padding=0, dilation=1, ceil_mode=False)\n",
       "  (cnn3): Conv2d(32, 32, kernel_size=(4, 4), stride=(1, 1))\n",
       "  (relu3): ReLU()\n",
       "  (maxpool3): MaxPool2d(kernel_size=2, stride=2, padding=0, dilation=1, ceil_mode=False)\n",
       "  (cnn4): Conv2d(32, 32, kernel_size=(2, 2), stride=(1, 1))\n",
       "  (relu4): ReLU()\n",
       "  (maxpool4): MaxPool2d(kernel_size=2, stride=2, padding=0, dilation=1, ceil_mode=False)\n",
       "  (fc1): Linear(in_features=5376, out_features=1024, bias=True)\n",
       "  (fc2): Linear(in_features=1024, out_features=32, bias=True)\n",
       "  (fc3): Linear(in_features=32, out_features=4, bias=True)\n",
       ")"
      ]
     },
     "execution_count": 12,
     "metadata": {},
     "output_type": "execute_result"
    }
   ],
   "source": [
    "Bestmodel = CNN_Model()\n",
    "Bestmodel.load_state_dict(torch.load('MyModel_v2_Best.pt'))\n",
    "Bestmodel.eval()"
   ]
  },
  {
   "cell_type": "code",
   "execution_count": 13,
   "metadata": {},
   "outputs": [
    {
     "name": "stdout",
     "output_type": "stream",
     "text": [
      "Accuracy of the network on the 37 test images: 100.0 %\n"
     ]
    }
   ],
   "source": [
    "correct = 0\n",
    "total = 0\n",
    "# 新增這邊記錄真實跟預測值\n",
    "pred_list = []\n",
    "label_list = []\n",
    "\n",
    "with torch.no_grad():\n",
    "    for data in test_loader:\n",
    "        images, labels = data\n",
    "        # calculate outputs by running images through the network\n",
    "        outputs = Bestmodel(images)\n",
    "        # the class with the highest energy is what we choose as prediction\n",
    "        _, predicted = torch.max(outputs.data, 1)\n",
    "        total += labels.size(0)\n",
    "        correct += (predicted == labels).sum().item()\n",
    "\n",
    "        pred_list.extend(predicted.cpu().numpy())\n",
    "        label_list.extend(labels.cpu().numpy())\n",
    "\n",
    "print(f'Accuracy of the network on the {total} test images: {100 * correct / total} %')"
   ]
  },
  {
   "cell_type": "code",
   "execution_count": 14,
   "metadata": {},
   "outputs": [
    {
     "name": "stdout",
     "output_type": "stream",
     "text": [
      "{'boat': 0, 'dolphin': 1, 'fish': 2, 'whale': 3}\n"
     ]
    },
    {
     "data": {
      "image/png": "[encoded data removed]",
      "text/plain": [
       "<Figure size 640x480 with 2 Axes>"
      ]
     },
     "metadata": {},
     "output_type": "display_data"
    }
   ],
   "source": [
    "# 印出類別對應的索引\n",
    "print(test_dataset.class_to_idx)  # 按順序為這些類別定義索引為 0, 1, ...\n",
    "\n",
    "# 生成混淆矩阵\n",
    "cm = confusion_matrix(label_list, pred_list)\n",
    "\n",
    "# 绘制混淆矩阵\n",
    "disp = ConfusionMatrixDisplay(confusion_matrix=cm, display_labels=np.arange(4))\n",
    "disp.plot(cmap=plt.cm.Blues)\n",
    "\n",
    "plt.title(\"Confusion Matrix\")\n",
    "plt.show()"
   ]
  }
 ],
 "metadata": {
  "kernelspec": {
   "display_name": "pytorch",
   "language": "python",
   "name": "python3"
  },
  "language_info": {
   "codemirror_mode": {
    "name": "ipython",
    "version": 3
   },
   "file_extension": ".py",
   "mimetype": "text/x-python",
   "name": "python",
   "nbconvert_exporter": "python",
   "pygments_lexer": "ipython3",
   "version": "3.9.18"
  }
 },
 "nbformat": 4,
 "nbformat_minor": 2
}
