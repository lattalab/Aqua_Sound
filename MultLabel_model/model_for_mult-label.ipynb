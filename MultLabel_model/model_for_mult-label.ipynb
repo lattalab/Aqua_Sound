{
 "cells": [
  {
   "cell_type": "markdown",
   "metadata": {},
   "source": [
    "#### 基本設置 + 設cuda"
   ]
  },
  {
   "cell_type": "code",
   "execution_count": 1,
   "metadata": {},
   "outputs": [
    {
     "name": "stdout",
     "output_type": "stream",
     "text": [
      "cuda\n"
     ]
    }
   ],
   "source": [
    "# Load in relevant libraries, and alias where appropriate\n",
    "import torch\n",
    "import torch.nn as nn\n",
    "import torchvision\n",
    "import torchvision.transforms as transforms\n",
    "\n",
    "# Define relevant variables for the ML task\n",
    "batch_size = 16\n",
    "num_classes = 4\n",
    "learning_rate = 0.011\n",
    "num_epochs = 25\n",
    "\n",
    "# Device will determine whether to run the training on GPU or CPU.\n",
    "device = torch.device('cuda' if torch.cuda.is_available() else 'cpu')\n",
    "print(device)"
   ]
  },
  {
   "cell_type": "markdown",
   "metadata": {},
   "source": [
    "#### 讀取資料集"
   ]
  },
  {
   "cell_type": "code",
   "execution_count": 2,
   "metadata": {},
   "outputs": [
    {
     "name": "stdout",
     "output_type": "stream",
     "text": [
      "['boat', 'boat+fish', 'boat+whale', 'dolphin', 'dolphin+boat', 'dolphin+fish', 'dolphin+whale', 'fish', 'fish+whale', 'whale']\n",
      "{'boat': 0, 'boat+fish': 1, 'boat+whale': 2, 'dolphin': 3, 'dolphin+boat': 4, 'dolphin+fish': 5, 'dolphin+whale': 6, 'fish': 7, 'fish+whale': 8, 'whale': 9}\n",
      "223\n",
      "torch.Size([3, 480, 256])\n"
     ]
    }
   ],
   "source": [
    "import torchvision.datasets as dset\n",
    "\n",
    "# 定义数据转换\n",
    "transform = transforms.Compose([\n",
    "    transforms.Resize((480, 256)),  # 将图像调整为指定大小\n",
    "    transforms.ToTensor(),           # 将图像转换为张量\n",
    "])\n",
    "\n",
    "# 加載圖像數據集，並只考慮指定的資料夾\n",
    "dataset = dset.ImageFolder(root='./dataset/train', transform=transform)\n",
    "\n",
    "# 獲取相關信息\n",
    "print(dataset.classes)  # 根據分的文件夾的名字來確定類別\n",
    "print(dataset.class_to_idx)  # 按順序為這些類別定義索引為 0, 1, ...\n",
    "print(len(dataset))  # 返回數據集的大小\n",
    "\n",
    "print(dataset[0][0].size())  # 返回第一張圖片的大小"
   ]
  },
  {
   "cell_type": "markdown",
   "metadata": {},
   "source": [
    "用自定義dataset的方式改變label (因為要多標籤分類)"
   ]
  },
  {
   "cell_type": "code",
   "execution_count": 3,
   "metadata": {},
   "outputs": [],
   "source": [
    "from torch.utils.data import Dataset\n",
    "dict_for_label = {\n",
    "                    'boat':[1,0,0,0], 'dolphin':[0,1,0,0], 'fish':[0,0,1,0], 'whale':[0,0,0,1],\n",
    "                    'boat+fish':[1,0,1,0], 'boat+whale':[1,0,0,1],\n",
    "                    'dolphin+boat':[1,1,0,0], 'dolphin+whale':[0,1,0,1], 'dolphin+fish':[0,1,1,0],\n",
    "                    'fish+whale':[0,0,1,1]\n",
    "                  }\n",
    "# 自定義資料集，基於 ImageFolder 並支持多標籤\n",
    "class MultiLabelImageDataset(Dataset):\n",
    "    def __init__(self, image_folder, label_mapping, transform=None):\n",
    "        # 使用 ImageFolder 來獲取圖片和單標籤\n",
    "        self.image_folder = dset.ImageFolder(image_folder, transform=transform)\n",
    "        \n",
    "        # 依照圖片標籤名稱來對應多標籤\n",
    "        self.label_mapping = label_mapping  # 字典對應表\n",
    "\n",
    "    def __len__(self):\n",
    "        return len(self.image_folder)\n",
    "\n",
    "    def __getitem__(self, idx):\n",
    "        # 獲取圖片及其對應的單一標籤（由 ImageFolder 生成）\n",
    "        img, class_idx = self.image_folder[idx]\n",
    "        \n",
    "        # 使用 ImageFolder 的 class_to_idx 來獲取標籤名稱\n",
    "        label_name = self.image_folder.classes[class_idx]\n",
    "\n",
    "        # 根據 label_name 查詢對應的 one-hot 編碼\n",
    "        one_hot_label = torch.tensor(self.label_mapping[label_name], dtype=torch.float32)\n",
    "        \n",
    "        return img, one_hot_label"
   ]
  },
  {
   "cell_type": "code",
   "execution_count": 4,
   "metadata": {},
   "outputs": [
    {
     "name": "stdout",
     "output_type": "stream",
     "text": [
      "torch.Size([32, 3, 480, 256])\n",
      "torch.Size([32, 4])\n",
      "tensor([0., 0., 0., 1.])\n"
     ]
    }
   ],
   "source": [
    "from torch.utils.data import DataLoader\n",
    "# 使用自定義的多標籤資料集\n",
    "dataset = MultiLabelImageDataset(image_folder='dataset_v2/train', label_mapping=dict_for_label, transform=transform)\n",
    "\n",
    "# 使用 DataLoader 加載資料\n",
    "dataloader = DataLoader(dataset, batch_size=32, shuffle=True)\n",
    "\n",
    "# 測試資料加載\n",
    "for images, labels in dataloader:\n",
    "    print(images.shape)  # 輸出: (batch_size, channels, height, width)\n",
    "    print(labels.shape)  # 輸出: (batch_size, num_classes) -> multi-label one-hot encoded labels\n",
    "    print(labels[0])  # 輸出: 第一張圖片的標籤\n",
    "    break"
   ]
  },
  {
   "cell_type": "code",
   "execution_count": null,
   "metadata": {},
   "outputs": [
    {
     "name": "stdout",
     "output_type": "stream",
     "text": [
      "11\n",
      "4\n"
     ]
    }
   ],
   "source": [
    "from torch.utils.data import DataLoader\n",
    "\n",
    "# 加載圖像數據集，並只考慮指定的資料夾\n",
    "train_dataset = MultiLabelImageDataset(image_folder='dataset_v2/train', label_mapping=dict_for_label, transform=transform)\n",
    "test_dataset = MultiLabelImageDataset(image_folder='dataset_v2/test', label_mapping=dict_for_label, transform=transform)\n",
    "\n",
    "# 创建 DataLoader 对象\n",
    "train_loader = DataLoader(train_dataset, batch_size=batch_size, shuffle=True)\n",
    "test_loader = DataLoader(test_dataset, batch_size=batch_size, shuffle=False)\n",
    "print(len(train_loader))\n",
    "print(len(test_loader))"
   ]
  },
  {
   "cell_type": "markdown",
   "metadata": {},
   "source": [
    "#### 創立model"
   ]
  },
  {
   "cell_type": "code",
   "execution_count": 6,
   "metadata": {},
   "outputs": [],
   "source": [
    "# Create CNN Model\n",
    "class CNN_Model(nn.Module):\n",
    "    def __init__(self):\n",
    "        super(CNN_Model, self).__init__()\n",
    "        # Convolution , input_shape=(3,480,256)\n",
    "        self.layer1 = self.conv_module(3, 16, 3, 1) #output_shape=(16,239,127)\n",
    "        self.layer2 = self.conv_module(16, 16, 4, 1) #output_shape=(16,118,62)\n",
    "        self.layer3 = self.conv_twice(16, 32, 3, 1) #output_shape=(32,58,30)\n",
    "        self.layer4 = self.conv_twice(32, 64, 3, 1) #output_shape=(64,28,14)\n",
    "        self.layer5 = self.conv_twice(64, 8, 5, 1) #output_shape=(8,12,5)\n",
    "        # # Fully connected 1\n",
    "        self.fc1 = nn.Linear(8*12*5, 4) \n",
    "        \n",
    "    def forward(self, x):\n",
    "        # Convolutions\n",
    "        out = self.layer1(x)\n",
    "        out = self.layer2(out)\n",
    "        out = self.layer3(out)\n",
    "        out = self.layer4(out)\n",
    "        out = self.layer5(out)\n",
    "        # Resize\n",
    "        out = out.view(out.size(0), -1)\n",
    "        # Linear function (readout)\n",
    "        out = self.fc1(out)\n",
    "        return out\n",
    "    \n",
    "    def conv_module(self, in_channels, out_channels, kernel_size, stride, padding=0):\n",
    "        \"By giving the convolutional parameters, the function will return a convolutional module\"\n",
    "        return nn.Sequential(\n",
    "            nn.Conv2d(in_channels, out_channels, kernel_size, stride, padding),\n",
    "            nn.ReLU(),\n",
    "            nn.MaxPool2d(kernel_size=2)\n",
    "        )\n",
    "    def conv_twice(self, in_channels, out_channels, kernel_size, stride, padding=0):\n",
    "        \"By giving the convolutional parameters, the function will return a double convolutional module\"\n",
    "        return nn.Sequential(\n",
    "            nn.Conv2d(in_channels, out_channels, kernel_size=1, stride=stride, padding=padding),    # expand the channels\n",
    "            nn.Conv2d(out_channels, out_channels, kernel_size, stride, padding),\n",
    "            nn.BatchNorm2d(out_channels),\n",
    "            nn.ReLU(),\n",
    "            nn.MaxPool2d(kernel_size=2)\n",
    "        )"
   ]
  },
  {
   "cell_type": "code",
   "execution_count": 7,
   "metadata": {},
   "outputs": [
    {
     "name": "stdout",
     "output_type": "stream",
     "text": [
      "Model's structure:\n",
      " =================================================================\n",
      "Layer (type:depth-idx)                   Param #\n",
      "=================================================================\n",
      "CNN_Model                                --\n",
      "├─Sequential: 1-1                        --\n",
      "│    └─Conv2d: 2-1                       448\n",
      "│    └─ReLU: 2-2                         --\n",
      "│    └─MaxPool2d: 2-3                    --\n",
      "├─Sequential: 1-2                        --\n",
      "│    └─Conv2d: 2-4                       4,112\n",
      "│    └─ReLU: 2-5                         --\n",
      "│    └─MaxPool2d: 2-6                    --\n",
      "├─Sequential: 1-3                        --\n",
      "│    └─Conv2d: 2-7                       544\n",
      "│    └─Conv2d: 2-8                       9,248\n",
      "│    └─BatchNorm2d: 2-9                  64\n",
      "│    └─ReLU: 2-10                        --\n",
      "│    └─MaxPool2d: 2-11                   --\n",
      "├─Sequential: 1-4                        --\n",
      "│    └─Conv2d: 2-12                      2,112\n",
      "│    └─Conv2d: 2-13                      36,928\n",
      "│    └─BatchNorm2d: 2-14                 128\n",
      "│    └─ReLU: 2-15                        --\n",
      "│    └─MaxPool2d: 2-16                   --\n",
      "├─Sequential: 1-5                        --\n",
      "│    └─Conv2d: 2-17                      520\n",
      "│    └─Conv2d: 2-18                      1,608\n",
      "│    └─BatchNorm2d: 2-19                 16\n",
      "│    └─ReLU: 2-20                        --\n",
      "│    └─MaxPool2d: 2-21                   --\n",
      "├─Linear: 1-6                            1,924\n",
      "=================================================================\n",
      "Total params: 57,652\n",
      "Trainable params: 57,652\n",
      "Non-trainable params: 0\n",
      "=================================================================\n"
     ]
    }
   ],
   "source": [
    "import torchinfo\n",
    "import torchinfo\n",
    "\n",
    "model = CNN_Model()\n",
    "print(f\"Model's structure:\\n {torchinfo.summary(model)}\")"
   ]
  },
  {
   "cell_type": "markdown",
   "metadata": {},
   "source": [
    "#### 訓練模型"
   ]
  },
  {
   "cell_type": "code",
   "execution_count": 8,
   "metadata": {},
   "outputs": [
    {
     "name": "stdout",
     "output_type": "stream",
     "text": [
      "Epoch:1/25, Time:60.00 seconds, Train Loss: 0.7117\n",
      "Epoch:2/25, Time:4.11 seconds, Train Loss: 0.6275\n",
      "Epoch:3/25, Time:3.87 seconds, Train Loss: 0.5266\n",
      "Epoch:4/25, Time:3.83 seconds, Train Loss: 0.5096\n",
      "Epoch:5/25, Time:3.95 seconds, Train Loss: 0.4484\n",
      "Epoch:6/25, Time:4.01 seconds, Train Loss: 0.4311\n",
      "Epoch:7/25, Time:3.85 seconds, Train Loss: 0.3911\n",
      "Epoch:8/25, Time:3.95 seconds, Train Loss: 0.3618\n",
      "Epoch:9/25, Time:4.01 seconds, Train Loss: 0.3086\n",
      "Epoch:10/25, Time:3.77 seconds, Train Loss: 0.3141\n",
      "Epoch:11/25, Time:4.07 seconds, Train Loss: 0.3311\n",
      "Epoch:12/25, Time:3.92 seconds, Train Loss: 0.2892\n",
      "Epoch:13/25, Time:4.08 seconds, Train Loss: 0.3062\n",
      "Epoch:14/25, Time:3.74 seconds, Train Loss: 0.2465\n",
      "Epoch:15/25, Time:3.92 seconds, Train Loss: 0.2438\n",
      "Epoch:16/25, Time:4.16 seconds, Train Loss: 0.2314\n",
      "Epoch:17/25, Time:3.87 seconds, Train Loss: 0.2331\n",
      "Epoch:18/25, Time:3.98 seconds, Train Loss: 0.1847\n",
      "Epoch:19/25, Time:4.00 seconds, Train Loss: 0.2618\n",
      "Epoch:20/25, Time:4.05 seconds, Train Loss: 0.2239\n",
      "Epoch:21/25, Time:4.00 seconds, Train Loss: 0.1940\n",
      "Epoch:22/25, Time:3.87 seconds, Train Loss: 0.2331\n",
      "Epoch:23/25, Time:3.90 seconds, Train Loss: 0.2177\n",
      "Epoch:24/25, Time:4.13 seconds, Train Loss: 0.1771\n",
      "Epoch:25/25, Time:3.84 seconds, Train Loss: 0.2056\n",
      "Model saved to MyModel_v3.pt\n"
     ]
    }
   ],
   "source": [
    "import time\n",
    "# Move model to \"device\".\n",
    "model = model.to(device)\n",
    "# File name.\n",
    "modelSaveName = \"MyModel_v3.pt\"\n",
    "# Create an optimizer.\n",
    "optimizer = torch.optim.Adam(params=model.parameters(), lr=learning_rate)\n",
    "# Create a loss function\n",
    "lossFunc = nn.BCEWithLogitsLoss() # Binary Cross Entropy Loss\n",
    "\n",
    "bestValidAcc = 0\n",
    "for epoch in range(1, num_epochs+1):\n",
    "  start_time = time.time()  # 計算每個epoch開始的時間\n",
    "  # Training mode.\n",
    "  model.train()\n",
    "  train_loss = 0.0\n",
    "  for iter, (input, target) in enumerate(train_loader):\n",
    "    # Move data to \"device\".\n",
    "    input = input.to(device)\n",
    "    target = target.to(device)\n",
    "\n",
    "    # Clear optimizer gradients.\n",
    "    optimizer.zero_grad()\n",
    "    \n",
    "    # Forward pass.\n",
    "    output = model(input)\n",
    "      \n",
    "    # Compute the loss.\n",
    "    loss=lossFunc(output, target)\n",
    "    # Loss backward propagation.\n",
    "    loss.backward()\n",
    "    # Update all learnable parameters.\n",
    "    optimizer.step()\n",
    "    # update training loss\n",
    "    train_loss += loss.item()\n",
    "\n",
    "  # statistics\n",
    "  # 計算每個樣本的平均損失\n",
    "  train_loss = train_loss / len(train_loader)\n",
    "  end_time = time.time()  # 計算每個epoch結束的時間\n",
    "  epoch_time = end_time - start_time  # 計算每個epoch所花的時間\n",
    "  print(\"Epoch:{}/{}, Time:{:.2f} seconds, Train Loss: {:.4f}\".format(epoch, num_epochs, epoch_time, train_loss))\n",
    "\n",
    "# 存檔\n",
    "torch.save(model.state_dict(), modelSaveName, _use_new_zipfile_serialization=False)\n",
    "print('Model saved to %s' % modelSaveName)"
   ]
  },
  {
   "cell_type": "markdown",
   "metadata": {},
   "source": [
    "測試模型"
   ]
  },
  {
   "cell_type": "code",
   "execution_count": 9,
   "metadata": {},
   "outputs": [
    {
     "data": {
      "text/plain": [
       "<All keys matched successfully>"
      ]
     },
     "execution_count": 9,
     "metadata": {},
     "output_type": "execute_result"
    }
   ],
   "source": [
    "model = CNN_Model()\n",
    "model.load_state_dict(torch.load('MyModel_v3.pt'))"
   ]
  },
  {
   "cell_type": "code",
   "execution_count": 10,
   "metadata": {},
   "outputs": [],
   "source": [
    "correct = 0\n",
    "total = 0\n",
    "# 新增這邊記錄真實跟預測值\n",
    "pred_list = []\n",
    "label_list = []\n",
    "\n",
    "with torch.no_grad():\n",
    "    for data in test_loader:\n",
    "        images, labels = data\n",
    "        # calculate outputs by running images through the network\n",
    "        outputs = model(images)\n",
    "        \n",
    "        predicted_prob = torch.sigmoid(outputs)\n",
    "        \n",
    "        # 將每個類別的預測概率與閾值 0.5 比較，大於 0.5 的表示預測該類別存在 (標記為 1)\n",
    "        predicted = (predicted_prob > 0.5).int()\n",
    "\n",
    "        # 計算每個樣本的預測是否與真實標籤完全相同\n",
    "        correct += (predicted == labels).all(dim=1).sum().item()\n",
    "        total += labels.size(0)\n",
    "\n",
    "        pred_list.extend(predicted.cpu().numpy())\n",
    "        label_list.extend(labels.cpu().numpy())"
   ]
  },
  {
   "cell_type": "code",
   "execution_count": 11,
   "metadata": {},
   "outputs": [
    {
     "name": "stdout",
     "output_type": "stream",
     "text": [
      "Subset Accuracy of the network on the 59 test images: 67.79661016949152 %\n",
      "Accuracy of the network on the 59 test images: 81.92090395480224 %\n"
     ]
    }
   ],
   "source": [
    "from sklearn.metrics import accuracy_score\n",
    "import numpy as np\n",
    "\n",
    "# change to numpy array\n",
    "pred_list = np.array(pred_list)\n",
    "label_list = np.array(label_list)\n",
    "\n",
    "print(f'Subset Accuracy of the network on the {total} test images: {accuracy_score(label_list, pred_list)*100} %')\n",
    "\n",
    "def Accuracy(y_pred, y_true):\n",
    "    count = 0\n",
    "    for i in range(y_true.shape[0]):  # 幾個樣本\n",
    "        p = sum(np.logical_and(y_pred[i], y_true[i]))\n",
    "        q = sum(np.logical_or(y_pred[i], y_true[i]))\n",
    "        count += p / q\n",
    "    return count / y_true.shape[0]\n",
    "\n",
    "print(f'Accuracy of the network on the {total} test images: {Accuracy(pred_list, label_list)*100} %')"
   ]
  },
  {
   "cell_type": "code",
   "execution_count": 12,
   "metadata": {},
   "outputs": [
    {
     "name": "stdout",
     "output_type": "stream",
     "text": [
      "Precision: 0.9491525423728814\n",
      "Recall: 0.8305084745762712\n",
      "F1-score: 0.8672316384180792\n"
     ]
    }
   ],
   "source": [
    "# precision, recall, f1-score\n",
    "from sklearn.metrics import precision_score, recall_score, f1_score\n",
    "\n",
    "print(f'Precision: {precision_score(label_list, pred_list, average=\"samples\")}')\n",
    "print(f'Recall: {recall_score(label_list, pred_list, average=\"samples\")}')\n",
    "print(f'F1-score: {f1_score(label_list, pred_list, average=\"samples\")}')"
   ]
  },
  {
   "cell_type": "code",
   "execution_count": 13,
   "metadata": {},
   "outputs": [
    {
     "data": {
      "image/png": "[encoded data removed]",
      "text/plain": [
       "<Figure size 500x400 with 1 Axes>"
      ]
     },
     "metadata": {},
     "output_type": "display_data"
    },
    {
     "data": {
      "image/png": "[encoded data removed]",
      "text/plain": [
       "<Figure size 500x400 with 1 Axes>"
      ]
     },
     "metadata": {},
     "output_type": "display_data"
    },
    {
     "data": {
      "image/png": "[encoded data removed]",
      "text/plain": [
       "<Figure size 500x400 with 1 Axes>"
      ]
     },
     "metadata": {},
     "output_type": "display_data"
    },
    {
     "data": {
      "image/png": "[encoded data removed]",
      "text/plain": [
       "<Figure size 500x400 with 1 Axes>"
      ]
     },
     "metadata": {},
     "output_type": "display_data"
    }
   ],
   "source": [
    "import seaborn as sns\n",
    "import matplotlib.pyplot as plt\n",
    "from sklearn.metrics import confusion_matrix\n",
    "import numpy as np\n",
    "\n",
    "pred_list = np.array(pred_list)\n",
    "label_list = np.array(label_list)\n",
    "\n",
    "for i , class_name in enumerate(dict_for_label.keys()):\n",
    "    if i >= num_classes:\n",
    "        break\n",
    "\n",
    "    cm = confusion_matrix(label_list[:, i], pred_list[:, i])\n",
    "    \n",
    "    plt.figure(figsize=(5, 4))\n",
    "    sns.heatmap(cm, annot=True, fmt='d', cmap='Blues', cbar=False)\n",
    "    plt.title(f'Confusion Matrix for {class_name}')\n",
    "    plt.ylabel('Actual')\n",
    "    plt.xlabel('Predicted')\n",
    "    plt.show()\n"
   ]
  },
  {
   "cell_type": "markdown",
   "metadata": {},
   "source": [
    "計算hamming loss"
   ]
  },
  {
   "cell_type": "code",
   "execution_count": 14,
   "metadata": {},
   "outputs": [
    {
     "name": "stdout",
     "output_type": "stream",
     "text": [
      "Hamming Loss: 0.1016949152542373\n"
     ]
    }
   ],
   "source": [
    "from sklearn.metrics import hamming_loss\n",
    "\n",
    "# 計算 Hamming Loss\n",
    "hloss = hamming_loss(label_list, pred_list)\n",
    "print(f\"Hamming Loss: {hloss}\")"
   ]
  }
 ],
 "metadata": {
  "kernelspec": {
   "display_name": "pytorch",
   "language": "python",
   "name": "python3"
  },
  "language_info": {
   "codemirror_mode": {
    "name": "ipython",
    "version": 3
   },
   "file_extension": ".py",
   "mimetype": "text/x-python",
   "name": "python",
   "nbconvert_exporter": "python",
   "pygments_lexer": "ipython3",
   "version": "3.9.18"
  }
 },
 "nbformat": 4,
 "nbformat_minor": 2
}
