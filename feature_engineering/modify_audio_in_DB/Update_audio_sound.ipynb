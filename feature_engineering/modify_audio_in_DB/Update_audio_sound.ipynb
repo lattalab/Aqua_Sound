{
 "cells": [
  {
   "cell_type": "code",
   "execution_count": 1,
   "metadata": {},
   "outputs": [],
   "source": [
    "import noisereduce as nr\n",
    "from pydub import AudioSegment  \n",
    "import soundfile as sf"
   ]
  },
  {
   "cell_type": "code",
   "execution_count": 21,
   "metadata": {},
   "outputs": [],
   "source": [
    "source = r'C:\\Users\\vlva8\\OneDrive\\Desktop\\Aqua Sound\\聲音資料\\魚\\墾丁\\20220901_123022.wav'"
   ]
  },
  {
   "cell_type": "code",
   "execution_count": 22,
   "metadata": {},
   "outputs": [
    {
     "data": {
      "text/plain": [
       "<_io.BufferedRandom name='20220901_123022_fish_pitch_shift.wav'>"
      ]
     },
     "execution_count": 22,
     "metadata": {},
     "output_type": "execute_result"
    }
   ],
   "source": [
    "song = AudioSegment.from_wav(source)\n",
    "song = song.set_frame_rate(44100)  # 44.1kHz\n",
    "output = song[:] + 30   # 加dB\n",
    "output.export(\"20220901_123022_fish_pitch_shift.wav\")"
   ]
  }
 ],
 "metadata": {
  "kernelspec": {
   "display_name": "pytorch",
   "language": "python",
   "name": "python3"
  },
  "language_info": {
   "codemirror_mode": {
    "name": "ipython",
    "version": 3
   },
   "file_extension": ".py",
   "mimetype": "text/x-python",
   "name": "python",
   "nbconvert_exporter": "python",
   "pygments_lexer": "ipython3",
   "version": "3.9.18"
  }
 },
 "nbformat": 4,
 "nbformat_minor": 2
}
